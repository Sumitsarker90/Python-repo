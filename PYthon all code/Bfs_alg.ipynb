{
 "cells": [
  {
   "cell_type": "code",
   "execution_count": 3,
   "id": "d1850676",
   "metadata": {},
   "outputs": [
    {
     "data": {
      "text/plain": [
       "['S', 'A', 'C', 'G']"
      ]
     },
     "execution_count": 3,
     "metadata": {},
     "output_type": "execute_result"
    }
   ],
   "source": []
  },
  {
   "cell_type": "code",
   "execution_count": 5,
   "id": "37cfaa1e",
   "metadata": {},
   "outputs": [
    {
     "ename": "IndentationError",
     "evalue": "unindent does not match any outer indentation level (<tokenize>, line 84)",
     "output_type": "error",
     "traceback": [
      "\u001b[1;36m  File \u001b[1;32m\"<tokenize>\"\u001b[1;36m, line \u001b[1;32m84\u001b[0m\n\u001b[1;33m    if found: break\u001b[0m\n\u001b[1;37m    ^\u001b[0m\n\u001b[1;31mIndentationError\u001b[0m\u001b[1;31m:\u001b[0m unindent does not match any outer indentation level\n"
     ]
    }
   ],
   "source": [
    "graph={\n",
    "\n",
    " \n",
    "\n",
    "    'S':{'A':2,'B':1,},\n",
    "\n",
    " \n",
    "\n",
    "    'A':{'C':2,'D':3},\n",
    "\n",
    " \n",
    "\n",
    "    'B':{'D':4,'E':4},\n",
    "\n",
    " \n",
    "\n",
    "    'C':{'G':4},\n",
    "\n",
    " \n",
    "\n",
    "    'D':{'G':4},\n",
    "\n",
    " \n",
    "\n",
    "    'E':{},\n",
    "\n",
    " \n",
    "\n",
    "    'G':{}\n",
    "\n",
    " \n",
    "\n",
    "    }\n",
    "\n",
    " \n",
    "\n",
    "def breadthFast(startNode, destNode):\n",
    "    visited = {} # to store explored nodes\n",
    "    distance = {}\n",
    "    parent = {} # to store path\n",
    "\n",
    " \n",
    "\n",
    "    exlpored = [] \n",
    "    frontier = Queue()\n",
    "\n",
    " \n",
    "\n",
    "    for node in graph.keys():\n",
    "        visited[node] = False\n",
    "        parent[node] = None\n",
    "        distance[node] = -1\n",
    "\n",
    " \n",
    "\n",
    "    startPoint = startNode\n",
    "    visited[startNode] = True\n",
    "    distance[startNode] = 0\n",
    "    frontier.put(startNode)   \n",
    "    found = False\n",
    "\n",
    " \n",
    "\n",
    "    while not frontier.empty():\n",
    "        u = frontier.get()     \n",
    "        exlpored.append(u)\n",
    "\n",
    " \n",
    "\n",
    "       \n",
    "    \n",
    "    \n",
    "    for v in graph[u].keys():\n",
    "        \n",
    "            if not visited[v]:\n",
    "                visited[v] = True\n",
    "                parent[v] = u\n",
    "                distance[v] = distance[u] + graph[u][v]\n",
    "                frontier.put(v)\n",
    "                if v== destNode:\n",
    "                    found =True\n",
    "                    break\n",
    "\n",
    "        if found: break\n",
    "\n",
    "    g = destNode\n",
    "    path = []\n",
    "    while g is not None:\n",
    "        path.append(g)\n",
    "        g = parent[g]\n",
    "\n",
    " \n",
    "\n",
    "    path.reverse()\n",
    "    print(\"Breadth-First Search Path Secquence:\")\n",
    "    print(path)\n",
    "    print(\"Path-Cost:\")\n",
    "    print(distance[destNode])\n",
    "    \n",
    "    \n",
    " breadthFast('S','G')"
   ]
  },
  {
   "cell_type": "code",
   "execution_count": null,
   "id": "277a2f1b",
   "metadata": {},
   "outputs": [],
   "source": []
  }
 ],
 "metadata": {
  "kernelspec": {
   "display_name": "Python 3",
   "language": "python",
   "name": "python3"
  },
  "language_info": {
   "codemirror_mode": {
    "name": "ipython",
    "version": 3
   },
   "file_extension": ".py",
   "mimetype": "text/x-python",
   "name": "python",
   "nbconvert_exporter": "python",
   "pygments_lexer": "ipython3",
   "version": "3.8.8"
  }
 },
 "nbformat": 4,
 "nbformat_minor": 5
}
