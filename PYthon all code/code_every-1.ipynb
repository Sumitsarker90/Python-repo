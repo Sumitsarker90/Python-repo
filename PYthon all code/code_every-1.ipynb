{
 "cells": [
  {
   "cell_type": "markdown",
   "id": "835d67f8",
   "metadata": {},
   "source": [
    "how to find the data or the variables types in python"
   ]
  },
  {
   "cell_type": "code",
   "execution_count": 4,
   "id": "f01fb2a0",
   "metadata": {},
   "outputs": [
    {
     "name": "stdout",
     "output_type": "stream",
     "text": [
      "<class 'int'>\n",
      "<class 'str'>\n"
     ]
    },
    {
     "data": {
      "text/plain": [
       "float"
      ]
     },
     "execution_count": 4,
     "metadata": {},
     "output_type": "execute_result"
    }
   ],
   "source": [
    "print(type(345))\n",
    "print(type('Sumit'))\n",
    "type(34.44)"
   ]
  },
  {
   "cell_type": "raw",
   "id": "fdfc8f4b",
   "metadata": {},
   "source": [
    "# Type  Conversions \n",
    "when we put an integer and floating point in an  \n",
    "expression, the integer is \n",
    "implicity converted to a float"
   ]
  },
  {
   "cell_type": "code",
   "execution_count": 7,
   "id": "6f5fc507",
   "metadata": {},
   "outputs": [
    {
     "name": "stdout",
     "output_type": "stream",
     "text": [
      "199.5\n",
      "150.0\n",
      "89\n"
     ]
    }
   ],
   "source": [
    "print( 99.5+100)\n",
    "print( float(100+50))\n",
    "print(int(44.3+44.8))"
   ]
  },
  {
   "cell_type": "code",
   "execution_count": 10,
   "id": "d232aff1",
   "metadata": {},
   "outputs": [
    {
     "name": "stdout",
     "output_type": "stream",
     "text": [
      "4.5\n",
      "4\n",
      "5.0\n"
     ]
    }
   ],
   "source": [
    "print(9/2)\n",
    "print(9//2)\n",
    "print(10/2)"
   ]
  },
  {
   "cell_type": "code",
   "execution_count": 11,
   "id": "83ffa63b",
   "metadata": {
    "scrolled": true
   },
   "outputs": [
    {
     "name": "stdout",
     "output_type": "stream",
     "text": [
      "who are you?  123\n",
      "welcome 123\n"
     ]
    }
   ],
   "source": [
    "name= input('who are you?  ')\n",
    "print('welcome' ,name)"
   ]
  },
  {
   "cell_type": "code",
   "execution_count": 14,
   "id": "b594b09b",
   "metadata": {},
   "outputs": [
    {
     "ename": "SyntaxError",
     "evalue": "invalid syntax (<ipython-input-14-92e87e1158a2>, line 2)",
     "output_type": "error",
     "traceback": [
      "\u001b[1;36m  File \u001b[1;32m\"<ipython-input-14-92e87e1158a2>\"\u001b[1;36m, line \u001b[1;32m2\u001b[0m\n\u001b[1;33m    if( mark<50 && mark>0):\u001b[0m\n\u001b[1;37m                 ^\u001b[0m\n\u001b[1;31mSyntaxError\u001b[0m\u001b[1;31m:\u001b[0m invalid syntax\n"
     ]
    }
   ],
   "source": [
    "mark= input(int(\"Enter your mark: \"))\n",
    "if( mark<50 && mark>0):\n",
    "    print('You have failed!')\n",
    "elif mark<100 && mark>49:\n",
    "    print('You have got A!') \n",
    "else print('Try again!')    \n",
    "    "
   ]
  },
  {
   "cell_type": "code",
   "execution_count": null,
   "id": "ce0b5cef",
   "metadata": {},
   "outputs": [],
   "source": []
  }
 ],
 "metadata": {
  "kernelspec": {
   "display_name": "Python 3",
   "language": "python",
   "name": "python3"
  },
  "language_info": {
   "codemirror_mode": {
    "name": "ipython",
    "version": 3
   },
   "file_extension": ".py",
   "mimetype": "text/x-python",
   "name": "python",
   "nbconvert_exporter": "python",
   "pygments_lexer": "ipython3",
   "version": "3.8.8"
  }
 },
 "nbformat": 4,
 "nbformat_minor": 5
}
