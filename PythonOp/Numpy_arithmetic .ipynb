{
 "cells": [
  {
   "cell_type": "markdown",
   "id": "f3870e37",
   "metadata": {},
   "source": [
    "## Arithmetic Operation in array"
   ]
  },
  {
   "cell_type": "code",
   "execution_count": 2,
   "id": "9daa9a2a",
   "metadata": {},
   "outputs": [],
   "source": [
    "import numpy as np"
   ]
  },
  {
   "cell_type": "code",
   "execution_count": 2,
   "id": "5daf194a",
   "metadata": {},
   "outputs": [
    {
     "name": "stdout",
     "output_type": "stream",
     "text": [
      "[4 5 6 7]\n"
     ]
    }
   ],
   "source": [
    "#Add\n",
    "var=np.array([1,2,3,4])\n",
    "varadd=var+3\n",
    "print(varadd)"
   ]
  },
  {
   "cell_type": "code",
   "execution_count": 4,
   "id": "4122a27e",
   "metadata": {},
   "outputs": [
    {
     "name": "stdout",
     "output_type": "stream",
     "text": [
      "[ 3  5  7 13]\n"
     ]
    }
   ],
   "source": [
    "# Addition of two array\n",
    "var1=np.array([1,2, 3 ,4])\n",
    "var2=np.array([2,3,4,9])\n",
    "varadd=var1+var2\n",
    "print(varadd)"
   ]
  },
  {
   "cell_type": "code",
   "execution_count": 6,
   "id": "a7762ec6",
   "metadata": {},
   "outputs": [
    {
     "name": "stdout",
     "output_type": "stream",
     "text": [
      "[-2 -1  0  1]\n"
     ]
    }
   ],
   "source": [
    "var=np.array([1,2,3,4])\n",
    "varsub=var-3\n",
    "print(varsub)"
   ]
  },
  {
   "cell_type": "code",
   "execution_count": 7,
   "id": "cd5f52ea",
   "metadata": {},
   "outputs": [
    {
     "name": "stdout",
     "output_type": "stream",
     "text": [
      "[-1 -1 -1 -5]\n"
     ]
    }
   ],
   "source": [
    "# subtraction of Two array\n",
    "var1=np.array([1,2, 3 ,4])\n",
    "var2=np.array([2,3,4,9])\n",
    "varsub=var1-var2\n",
    "print(varsub)"
   ]
  },
  {
   "cell_type": "code",
   "execution_count": 10,
   "id": "4429af2d",
   "metadata": {},
   "outputs": [
    {
     "name": "stdout",
     "output_type": "stream",
     "text": [
      "[ 2  6 12 36]\n"
     ]
    }
   ],
   "source": [
    "var1=np.array([1,2, 3 ,4])\n",
    "var2=np.array([2,3,4,9])\n",
    "varmulti=var1*var2\n",
    "print(varmulti)"
   ]
  },
  {
   "cell_type": "code",
   "execution_count": 9,
   "id": "cb6d6e00",
   "metadata": {},
   "outputs": [
    {
     "name": "stdout",
     "output_type": "stream",
     "text": [
      "[0.5        0.66666667 0.75       0.44444444]\n"
     ]
    }
   ],
   "source": [
    "var1=np.array([1,2, 3 ,4])\n",
    "var2=np.array([2,3,4,9])\n",
    "varsub=var1/var2\n",
    "print(varsub)"
   ]
  },
  {
   "cell_type": "code",
   "execution_count": 3,
   "id": "fa4ffaf5",
   "metadata": {},
   "outputs": [
    {
     "name": "stdout",
     "output_type": "stream",
     "text": [
      "[1 2 3 4]\n"
     ]
    }
   ],
   "source": [
    "var1=np.array([1,2, 3 ,4])\n",
    "var2=np.array([2,3,4,9])\n",
    "varsub=var1%var2\n",
    "print(varsub)"
   ]
  },
  {
   "cell_type": "code",
   "execution_count": 9,
   "id": "b497afb6",
   "metadata": {},
   "outputs": [
    {
     "name": "stdout",
     "output_type": "stream",
     "text": [
      "[ 3  5  7 13]\n",
      "[-1 -2 -3 -4]\n",
      "[ 2  8 18 32]\n"
     ]
    }
   ],
   "source": [
    "var1=np.array([1,2, 3 ,4])\n",
    "var2=np.array([2,3,4,9])\n",
    "a=[1,2,3,4]\n",
    "b=[2,4,6,8]\n",
    "vardd=np.add(a,b)\n",
    "varsub=np.subtract(a,b)\n",
    "varmulti=np.multiply(a,b)\n",
    "varsub=np.subtract(a,b)\n",
    "print(varadd)\n",
    "print(varsub)\n",
    "print(varmulti)"
   ]
  },
  {
   "cell_type": "markdown",
   "id": "fe4c39ee",
   "metadata": {},
   "source": [
    "# 2d array\n"
   ]
  },
  {
   "cell_type": "code",
   "execution_count": 11,
   "id": "ce62161b",
   "metadata": {},
   "outputs": [
    {
     "name": "stdout",
     "output_type": "stream",
     "text": [
      "[[ 1  6 24 16]\n",
      " [ 4  9 24 25]]\n"
     ]
    }
   ],
   "source": [
    "var2d=np.array([[1,2,3,4],[2,3,4,5]])\n",
    "var21=np.array([[1,3,8,4],[2,3,6,5]])\n",
    "varadd=np.multiply(var2d,var21)\n",
    "print(varadd)"
   ]
  },
  {
   "cell_type": "code",
   "execution_count": 12,
   "id": "ad41158a",
   "metadata": {},
   "outputs": [
    {
     "name": "stdout",
     "output_type": "stream",
     "text": [
      "[0 0 0 0]\n"
     ]
    }
   ],
   "source": [
    "# reciprocal 2d array perform\n",
    "\n",
    "var=[10,20,30,40]\n",
    "varresi=np.reciprocal(var)\n",
    "print(varresi)\n"
   ]
  },
  {
   "cell_type": "markdown",
   "id": "7ca1c954",
   "metadata": {},
   "source": [
    "### Arithmetic Functions"
   ]
  },
  {
   "cell_type": "code",
   "execution_count": 30,
   "id": "776ed5a2",
   "metadata": {},
   "outputs": [
    {
     "name": "stdout",
     "output_type": "stream",
     "text": [
      "max: 20 10\n",
      "\n",
      "min: 1 7\n",
      "sqrt:  [1.73205081 2.44948974 2.64575131 2.82842712 2.23606798 3.16227766\n",
      " 3.87298335 4.47213595 1.41421356 3.         1.        ]\n"
     ]
    }
   ],
   "source": [
    "# Min vs max \n",
    "var=np.array([3,6,7,8,5,10,15,20,2,9,1])\n",
    "varmin=np.min(var)\n",
    "varmax=np.max(var)\n",
    "\n",
    "print(\"max:\",varmax,np.argmin(var))\n",
    "print()\n",
    "print(\"min:\",varmin,np.argmax(var))\n",
    "print\n",
    "print(\"sqrt: \", np.sqrt(var))"
   ]
  },
  {
   "cell_type": "code",
   "execution_count": 27,
   "id": "e9bb88cf",
   "metadata": {},
   "outputs": [
    {
     "name": "stdout",
     "output_type": "stream",
     "text": [
      "[10  9]\n"
     ]
    }
   ],
   "source": [
    "# 2d array\n",
    "var1=np.array([[2,4,6,8,10],[1,3,5,7,9]])\n",
    "print(np.max(var1,axis=1))\n"
   ]
  },
  {
   "cell_type": "code",
   "execution_count": 32,
   "id": "cd53cfe4",
   "metadata": {},
   "outputs": [
    {
     "name": "stdout",
     "output_type": "stream",
     "text": [
      "[ 0.84147098  0.90929743  0.14112001 -0.7568025 ]\n",
      "[ 0.54030231 -0.41614684 -0.9899925  -0.65364362]\n"
     ]
    }
   ],
   "source": [
    "# Value of Sin cos\n",
    "var3=[1,2,3,4]\n",
    "print(np.sin(var3))\n",
    "\n",
    "print(np.cos(var3))"
   ]
  },
  {
   "cell_type": "code",
   "execution_count": 35,
   "id": "cd425d2e",
   "metadata": {},
   "outputs": [
    {
     "name": "stdout",
     "output_type": "stream",
     "text": [
      "[ 1  3  6 10]\n"
     ]
    }
   ],
   "source": [
    "# cumlity Sum\n",
    "var3=[1,2,3,4]\n",
    "print(np.cumsum(var3))"
   ]
  },
  {
   "cell_type": "code",
   "execution_count": null,
   "id": "a57768cc",
   "metadata": {},
   "outputs": [],
   "source": []
  }
 ],
 "metadata": {
  "kernelspec": {
   "display_name": "Python 3 (ipykernel)",
   "language": "python",
   "name": "python3"
  },
  "language_info": {
   "codemirror_mode": {
    "name": "ipython",
    "version": 3
   },
   "file_extension": ".py",
   "mimetype": "text/x-python",
   "name": "python",
   "nbconvert_exporter": "python",
   "pygments_lexer": "ipython3",
   "version": "3.10.6"
  }
 },
 "nbformat": 4,
 "nbformat_minor": 5
}
