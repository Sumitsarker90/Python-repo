{
 "cells": [
  {
   "cell_type": "code",
   "execution_count": 1,
   "id": "0b0c4a4f",
   "metadata": {},
   "outputs": [
    {
     "name": "stdout",
     "output_type": "stream",
     "text": [
      "Start\n",
      "Hi There\n"
     ]
    }
   ],
   "source": [
    "def greet_user():\n",
    "    \n",
    "    print('Hi There')\n",
    "    \n",
    "    \n",
    "print('Start')\n",
    "greet_user()"
   ]
  },
  {
   "cell_type": "code",
   "execution_count": 4,
   "id": "6cf80272",
   "metadata": {},
   "outputs": [
    {
     "name": "stdout",
     "output_type": "stream",
     "text": [
      "Hi Sumit, Good morning\n"
     ]
    }
   ],
   "source": [
    "def display(name):\n",
    "    print(f\"Hi {name}, Good morning\")\n",
    "\n",
    "display(\"Sumit\")"
   ]
  },
  {
   "cell_type": "code",
   "execution_count": 5,
   "id": "88052a56",
   "metadata": {},
   "outputs": [
    {
     "data": {
      "text/plain": [
       "5"
      ]
     },
     "execution_count": 5,
     "metadata": {},
     "output_type": "execute_result"
    }
   ],
   "source": [
    "def division(a,b):\n",
    "    return a//b\n",
    "\n",
    "division(25,5)"
   ]
  },
  {
   "cell_type": "code",
   "execution_count": 9,
   "id": "67bdd165",
   "metadata": {},
   "outputs": [
    {
     "name": "stdout",
     "output_type": "stream",
     "text": [
      "Radius is 31.400000000000002 c.m.\n"
     ]
    }
   ],
   "source": [
    "Pi=3.14\n",
    "\n",
    "def Circle_radius(  Radius):\n",
    "    radius=2*Pi*Radius\n",
    "    print(f'Radius is {radius} c.m.')\n",
    "          \n",
    "Circle_radius(5)\n",
    "          "
   ]
  },
  {
   "cell_type": "code",
   "execution_count": 13,
   "id": "d9e4d080",
   "metadata": {},
   "outputs": [
    {
     "name": "stdout",
     "output_type": "stream",
     "text": [
      "8\n",
      "8\n"
     ]
    }
   ],
   "source": [
    "def cube(number):\n",
    "    return number*number*number\n",
    "result=cube(2)\n",
    "print(result)\n",
    "print(cube(2))"
   ]
  },
  {
   "cell_type": "code",
   "execution_count": 3,
   "id": "6c773da3",
   "metadata": {},
   "outputs": [
    {
     "name": "stdout",
     "output_type": "stream",
     "text": [
      "None\n"
     ]
    }
   ],
   "source": [
    "numbers=[1,2,3,4]\n",
    "print(numbers.reverse())"
   ]
  },
  {
   "cell_type": "code",
   "execution_count": null,
   "id": "1a1fb992",
   "metadata": {},
   "outputs": [],
   "source": []
  }
 ],
 "metadata": {
  "kernelspec": {
   "display_name": "Python 3 (ipykernel)",
   "language": "python",
   "name": "python3"
  },
  "language_info": {
   "codemirror_mode": {
    "name": "ipython",
    "version": 3
   },
   "file_extension": ".py",
   "mimetype": "text/x-python",
   "name": "python",
   "nbconvert_exporter": "python",
   "pygments_lexer": "ipython3",
   "version": "3.10.6"
  }
 },
 "nbformat": 4,
 "nbformat_minor": 5
}
