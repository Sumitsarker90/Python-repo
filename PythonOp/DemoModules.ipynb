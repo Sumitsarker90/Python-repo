{
 "cells": [
  {
   "cell_type": "markdown",
   "id": "a988cd31",
   "metadata": {},
   "source": [
    "### Modules\n",
    " - Consider a module to be the same as a code library.\n",
    "\n",
    "- A file containing a set of functions you want to include in your application."
   ]
  },
  {
   "cell_type": "code",
   "execution_count": 4,
   "id": "beb37f08",
   "metadata": {},
   "outputs": [
    {
     "name": "stdout",
     "output_type": "stream",
     "text": [
      "20\n",
      "24\n",
      "50\n",
      "36\n",
      "28\n"
     ]
    }
   ],
   "source": [
    "import random\n",
    "\n",
    "for i in range(5):\n",
    "    print(random.randint(10,50))\n",
    "\n"
   ]
  },
  {
   "cell_type": "code",
   "execution_count": 10,
   "id": "fb97011f",
   "metadata": {},
   "outputs": [
    {
     "name": "stdout",
     "output_type": "stream",
     "text": [
      "sumit\n"
     ]
    }
   ],
   "source": [
    "members=['sumit','Mary','Ratul',\"Mohok\"]\n",
    "leader=random.choice(members)\n",
    "print(leader)"
   ]
  },
  {
   "cell_type": "code",
   "execution_count": 12,
   "id": "ff1ed68d",
   "metadata": {},
   "outputs": [
    {
     "name": "stdout",
     "output_type": "stream",
     "text": [
      "[9]\n"
     ]
    }
   ],
   "source": [
    "numbers=range(10)\n",
    "leader=random.choices(numbers,numbers)\n",
    "print(leader)"
   ]
  },
  {
   "cell_type": "code",
   "execution_count": 19,
   "id": "08b0b00f",
   "metadata": {},
   "outputs": [
    {
     "name": "stdout",
     "output_type": "stream",
     "text": [
      "(5, 3)\n"
     ]
    }
   ],
   "source": [
    "import random\n",
    "\n",
    "class Dice:\n",
    "    def roll(self):\n",
    "        first=random.randint(1,6)\n",
    "        second=random.randint(1,6)\n",
    "        return first,second\n",
    "    \n",
    "p1=Dice()\n",
    "print(p1.roll())\n"
   ]
  },
  {
   "cell_type": "code",
   "execution_count": null,
   "id": "de0e905b",
   "metadata": {},
   "outputs": [],
   "source": []
  }
 ],
 "metadata": {
  "kernelspec": {
   "display_name": "Python 3 (ipykernel)",
   "language": "python",
   "name": "python3"
  },
  "language_info": {
   "codemirror_mode": {
    "name": "ipython",
    "version": 3
   },
   "file_extension": ".py",
   "mimetype": "text/x-python",
   "name": "python",
   "nbconvert_exporter": "python",
   "pygments_lexer": "ipython3",
   "version": "3.10.6"
  }
 },
 "nbformat": 4,
 "nbformat_minor": 5
}
