{
 "cells": [
  {
   "cell_type": "markdown",
   "id": "916775b2",
   "metadata": {},
   "source": [
    "Sets are used to store multiple items in a single variable.\n",
    "- A set is a collection which is unordered, unchangeable*, and unindexed.\n",
    "- Note: Set items are unchangeable, but you can remove items and add new items.\n",
    "- Set items are unordered, unchangeable, and do not allow duplicate values.\n",
    "\n"
   ]
  },
  {
   "cell_type": "code",
   "execution_count": 6,
   "id": "1e450565",
   "metadata": {},
   "outputs": [
    {
     "name": "stdout",
     "output_type": "stream",
     "text": [
      "apple\n",
      "banana\n",
      "mango\n"
     ]
    }
   ],
   "source": [
    "# Set do not allow duplicate values\n",
    "myset={'apple','banana','mango','mango'}\n",
    "for count in myset:\n",
    "    print(count)"
   ]
  },
  {
   "cell_type": "code",
   "execution_count": 5,
   "id": "c73a6fb5",
   "metadata": {},
   "outputs": [
    {
     "name": "stdout",
     "output_type": "stream",
     "text": [
      "3\n"
     ]
    }
   ],
   "source": [
    "# Using len function you can find the item numbers in set\n",
    "print(len(myset))"
   ]
  },
  {
   "cell_type": "code",
   "execution_count": 8,
   "id": "1e98af4a",
   "metadata": {},
   "outputs": [
    {
     "name": "stdout",
     "output_type": "stream",
     "text": [
      "{'cherry', 'apple', 'banana'}\n",
      "{1, 3, 5, 7, 9}\n",
      "{False, True}\n"
     ]
    }
   ],
   "source": [
    "# set items can be any data typles like String, int and boolean data types:\n",
    "\n",
    "set1 = {\"apple\", \"banana\", \"cherry\"}\n",
    "set2 = {1, 5, 7, 9, 3}\n",
    "set3 = {True, False, False}\n",
    "print(set1)\n",
    "print(set2)\n",
    "print(set3)"
   ]
  },
  {
   "cell_type": "code",
   "execution_count": 10,
   "id": "f1ff9840",
   "metadata": {},
   "outputs": [
    {
     "name": "stdout",
     "output_type": "stream",
     "text": [
      "{True, 10.5, 'english', 90}\n"
     ]
    }
   ],
   "source": [
    "# A set can contain different data types:\n",
    "\n",
    "myset={\"english\",90,10.5,True}\n",
    "\n",
    "print(myset)"
   ]
  },
  {
   "cell_type": "code",
   "execution_count": 11,
   "id": "ed9d74dc",
   "metadata": {},
   "outputs": [
    {
     "name": "stdout",
     "output_type": "stream",
     "text": [
      "<class 'set'>\n"
     ]
    }
   ],
   "source": [
    " # From Python's perspective, sets are defined as objects with the data type 'set':\n",
    "print(type(myset))"
   ]
  },
  {
   "cell_type": "code",
   "execution_count": 12,
   "id": "870199a0",
   "metadata": {},
   "outputs": [
    {
     "name": "stdout",
     "output_type": "stream",
     "text": [
      "{'cherry', 'apple', 'banana', 'mango'}\n"
     ]
    }
   ],
   "source": [
    "# Once a set is created, you cannot change its items, but you can add new items.\n",
    "\n",
    "fruits={'apple','banana','cherry'}\n",
    "fruits.add(\"mango\")\n",
    "print(fruits)"
   ]
  },
  {
   "cell_type": "code",
   "execution_count": null,
   "id": "30663674",
   "metadata": {},
   "outputs": [],
   "source": []
  }
 ],
 "metadata": {
  "kernelspec": {
   "display_name": "Python 3 (ipykernel)",
   "language": "python",
   "name": "python3"
  },
  "language_info": {
   "codemirror_mode": {
    "name": "ipython",
    "version": 3
   },
   "file_extension": ".py",
   "mimetype": "text/x-python",
   "name": "python",
   "nbconvert_exporter": "python",
   "pygments_lexer": "ipython3",
   "version": "3.10.6"
  }
 },
 "nbformat": 4,
 "nbformat_minor": 5
}
