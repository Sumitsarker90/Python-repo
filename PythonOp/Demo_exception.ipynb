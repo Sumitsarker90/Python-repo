{
 "cells": [
  {
   "cell_type": "code",
   "execution_count": 5,
   "id": "64a8624e",
   "metadata": {},
   "outputs": [
    {
     "name": "stdout",
     "output_type": "stream",
     "text": [
      "Enter Age: 22\n",
      "22\n"
     ]
    }
   ],
   "source": [
    "try:\n",
    "    age=input(\"Enter Age: \")\n",
    "    print(int(age))\n",
    "except ValueError:\n",
    "    print('Invalid Value')"
   ]
  },
  {
   "cell_type": "code",
   "execution_count": null,
   "id": "c6ad0af5",
   "metadata": {},
   "outputs": [],
   "source": []
  },
  {
   "cell_type": "code",
   "execution_count": 1,
   "id": "48062d59",
   "metadata": {},
   "outputs": [
    {
     "name": "stdout",
     "output_type": "stream",
     "text": [
      "Enter Your age: 22\n",
      "22\n"
     ]
    }
   ],
   "source": [
    "try:\n",
    "    age=int(input(\"Enter Your age: \"))\n",
    "    income=20000\n",
    "    risk=income/age\n",
    "    print(age)\n",
    "\n",
    "except ValueError:\n",
    "    print(\"Invalid Age\")\n",
    "except ZeroDivisionError:\n",
    "    print('Age can not be Zero')"
   ]
  },
  {
   "cell_type": "code",
   "execution_count": 3,
   "id": "93c5acb1",
   "metadata": {},
   "outputs": [
    {
     "name": "stdout",
     "output_type": "stream",
     "text": [
      "Sumit sarker\n"
     ]
    }
   ],
   "source": [
    "name=' Sumit sarker '\n",
    "print(name.strip())"
   ]
  },
  {
   "cell_type": "code",
   "execution_count": null,
   "id": "9beaaad5",
   "metadata": {},
   "outputs": [],
   "source": []
  }
 ],
 "metadata": {
  "kernelspec": {
   "display_name": "Python 3 (ipykernel)",
   "language": "python",
   "name": "python3"
  },
  "language_info": {
   "codemirror_mode": {
    "name": "ipython",
    "version": 3
   },
   "file_extension": ".py",
   "mimetype": "text/x-python",
   "name": "python",
   "nbconvert_exporter": "python",
   "pygments_lexer": "ipython3",
   "version": "3.10.6"
  }
 },
 "nbformat": 4,
 "nbformat_minor": 5
}
