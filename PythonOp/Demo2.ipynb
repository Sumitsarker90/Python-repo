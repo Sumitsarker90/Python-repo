{
 "cells": [
  {
   "cell_type": "code",
   "execution_count": 1,
   "id": "8a2b407f",
   "metadata": {},
   "outputs": [
    {
     "name": "stdout",
     "output_type": "stream",
     "text": [
      "Sumit Sarker\n"
     ]
    }
   ],
   "source": [
    "print(\"Sumit Sarker\")"
   ]
  },
  {
   "cell_type": "code",
   "execution_count": 2,
   "id": "c29ab043",
   "metadata": {},
   "outputs": [
    {
     "name": "stdout",
     "output_type": "stream",
     "text": [
      "o----\n",
      " ||||\n"
     ]
    }
   ],
   "source": [
    "print('o----')\n",
    "print(' ||||')"
   ]
  },
  {
   "cell_type": "markdown",
   "id": "8b95e3a4",
   "metadata": {},
   "source": [
    "## An Expression is a pieace of code that produce a value\n",
    "## Variable is always hold some value.\n",
    "    '''\n",
    "    Price=10\n",
    "     Where Price is the lebel of variable and 10 is value which is hold by price and \n",
    "     and there is always memory allowcated for the variable\n",
    "    '''"
   ]
  },
  {
   "cell_type": "code",
   "execution_count": 8,
   "id": "7db2c1eb",
   "metadata": {},
   "outputs": [
    {
     "name": "stdout",
     "output_type": "stream",
     "text": [
      "10\n",
      "20\n",
      "24.9 sumit False\n"
     ]
    }
   ],
   "source": [
    "price=10\n",
    "print(price)\n",
    "price=20\n",
    "print(price)\n",
    "ratting=4.9\n",
    "name='sumit'\n",
    "is_published=False\n",
    "print(price+ ratting, name, is_published)"
   ]
  },
  {
   "cell_type": "code",
   "execution_count": 13,
   "id": "7f83050c",
   "metadata": {},
   "outputs": [
    {
     "name": "stdout",
     "output_type": "stream",
     "text": [
      "What is your name? Sumit\n",
      "What is your fav color? Blue\n",
      "Sumit likes Blue\n"
     ]
    }
   ],
   "source": [
    "full_name='Sumit Sarker'\n",
    "age=20;\n",
    "is_new=True\n",
    "name=input('What is your name? ')\n",
    "color=input('What is your fav color? ')\n",
    "print(name+ \" likes \"+ color)\n"
   ]
  },
  {
   "cell_type": "markdown",
   "id": "23b8a583",
   "metadata": {},
   "source": [
    "## Type casting in Python"
   ]
  },
  {
   "cell_type": "code",
   "execution_count": 18,
   "id": "0441f933",
   "metadata": {},
   "outputs": [
    {
     "name": "stdout",
     "output_type": "stream",
     "text": [
      "Enter your Birth year: 1999\n",
      "<class 'str'>\n",
      "<class 'int'>\n",
      "23\n"
     ]
    }
   ],
   "source": [
    "birth_year=input ('Enter your Birth year: ')\n",
    "print(type(birth_year))\n",
    "birth_year=int(birth_year)\n",
    "print(type(birth_year))\n",
    "age=2022-birth_year\n",
    "print(age)"
   ]
  },
  {
   "cell_type": "code",
   "execution_count": 21,
   "id": "0f9dedd4",
   "metadata": {},
   "outputs": [
    {
     "name": "stdout",
     "output_type": "stream",
     "text": [
      "Weight (lbs): 200\n",
      "90.0\n"
     ]
    }
   ],
   "source": [
    "weight_lbs=input('Weight (lbs): ')\n",
    "weight_kg=int(weight_lbs)*0.45\n",
    "print(weight_kg)"
   ]
  },
  {
   "cell_type": "code",
   "execution_count": 1,
   "id": "64ea9e4f",
   "metadata": {},
   "outputs": [],
   "source": [
    "course=  '''\n",
    "Hi Sumit,\n",
    "    Welcome To Python full couese for Biggeners\n",
    "\n",
    "\n",
    "\n",
    "'''\n",
    "print=(course)\n",
    "  "
   ]
  },
  {
   "cell_type": "code",
   "execution_count": 1,
   "id": "af5c2f7b",
   "metadata": {},
   "outputs": [
    {
     "name": "stdout",
     "output_type": "stream",
     "text": [
      "hello world\n"
     ]
    }
   ],
   "source": [
    "print(\"hello world\")"
   ]
  },
  {
   "cell_type": "code",
   "execution_count": 5,
   "id": "d7d9ae67",
   "metadata": {},
   "outputs": [
    {
     "ename": "TypeError",
     "evalue": "'str' object is not callable",
     "output_type": "error",
     "traceback": [
      "\u001b[1;31m---------------------------------------------------------------------------\u001b[0m",
      "\u001b[1;31mTypeError\u001b[0m                                 Traceback (most recent call last)",
      "Input \u001b[1;32mIn [5]\u001b[0m, in \u001b[0;36m<cell line: 1>\u001b[1;34m()\u001b[0m\n\u001b[1;32m----> 1\u001b[0m \u001b[38;5;28;43mprint\u001b[39;49m\u001b[43m(\u001b[49m\u001b[38;5;124;43m\"\u001b[39;49m\u001b[38;5;124;43mhello world\u001b[39;49m\u001b[38;5;124;43m\"\u001b[39;49m\u001b[43m)\u001b[49m\n",
      "\u001b[1;31mTypeError\u001b[0m: 'str' object is not callable"
     ]
    }
   ],
   "source": [
    "print(\"hello world\")"
   ]
  },
  {
   "cell_type": "code",
   "execution_count": 2,
   "id": "bee674aa",
   "metadata": {},
   "outputs": [
    {
     "name": "stdout",
     "output_type": "stream",
     "text": [
      "sumit sarker\n"
     ]
    }
   ],
   "source": [
    "print('sumit sarker')"
   ]
  },
  {
   "cell_type": "code",
   "execution_count": 3,
   "id": "837155be",
   "metadata": {},
   "outputs": [
    {
     "name": "stdout",
     "output_type": "stream",
     "text": [
      "hello world\n"
     ]
    }
   ],
   "source": [
    "print(\"hello world\")"
   ]
  },
  {
   "cell_type": "code",
   "execution_count": null,
   "id": "ec0d6937",
   "metadata": {},
   "outputs": [],
   "source": []
  }
 ],
 "metadata": {
  "kernelspec": {
   "display_name": "Python 3 (ipykernel)",
   "language": "python",
   "name": "python3"
  },
  "language_info": {
   "codemirror_mode": {
    "name": "ipython",
    "version": 3
   },
   "file_extension": ".py",
   "mimetype": "text/x-python",
   "name": "python",
   "nbconvert_exporter": "python",
   "pygments_lexer": "ipython3",
   "version": "3.10.6"
  }
 },
 "nbformat": 4,
 "nbformat_minor": 5
}
