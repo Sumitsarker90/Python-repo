{
 "cells": [
  {
   "cell_type": "markdown",
   "id": "35c67a6f",
   "metadata": {},
   "source": [
    "Create a program that asks the user to enter their name and their age. Print out a message addressed to them that tells them the year that they will turn 100 years old."
   ]
  },
  {
   "cell_type": "code",
   "execution_count": 1,
   "id": "681af9be",
   "metadata": {},
   "outputs": [
    {
     "name": "stdout",
     "output_type": "stream",
     "text": [
      "Enter Your Name: Promi\n",
      "Enter Your Age: 22\n",
      " Promi, You will be 100 in 2100\n"
     ]
    }
   ],
   "source": [
    "year=2022\n",
    "name=input('Enter Your Name: ')\n",
    "age=int(input('Enter Your Age: '))\n",
    "cencury=year-age+100\n",
    "print(f' {name}, You will be 100 in {cencury}')"
   ]
  },
  {
   "cell_type": "markdown",
   "id": "dd3a7d67",
   "metadata": {},
   "source": [
    "Ask the user for a number. Depending on whether the number is even or odd, print out an appropriate message to the user."
   ]
  },
  {
   "cell_type": "code",
   "execution_count": 7,
   "id": "03e252cd",
   "metadata": {},
   "outputs": [
    {
     "name": "stdout",
     "output_type": "stream",
     "text": [
      "Enter a Number: 11\n",
      "Give me a number to divide by: 3\n",
      "11 It is a Odd number\n",
      "11 does not divide evenly by 3\n"
     ]
    }
   ],
   "source": [
    "num=int(input(\"Enter a Number: \"))\n",
    "check=int (input(\"Give me a number to divide by: \"))\n",
    "\n",
    "if num%4==0:\n",
    "    print(num,\" it s a multiple of 4\")\n",
    "elif num%2==0:\n",
    "    print(num, 'It is a Even Number')\n",
    "else:\n",
    "    print(num, 'It is a Odd number')\n",
    "    \n",
    "if num%check==0:\n",
    "    print(num,'Divide Evenly by ',check)\n",
    "else:\n",
    "    print(num,'does not divide evenly by',check)\n"
   ]
  },
  {
   "cell_type": "code",
   "execution_count": 6,
   "id": "2777bc9b",
   "metadata": {},
   "outputs": [
    {
     "data": {
      "text/plain": [
       "1"
      ]
     },
     "execution_count": 6,
     "metadata": {},
     "output_type": "execute_result"
    }
   ],
   "source": [
    "9%4\n"
   ]
  },
  {
   "cell_type": "code",
   "execution_count": null,
   "id": "7df8a0d2",
   "metadata": {},
   "outputs": [],
   "source": []
  }
 ],
 "metadata": {
  "kernelspec": {
   "display_name": "Python 3.10.6 64-bit",
   "language": "python",
   "name": "python3"
  },
  "language_info": {
   "codemirror_mode": {
    "name": "ipython",
    "version": 3
   },
   "file_extension": ".py",
   "mimetype": "text/x-python",
   "name": "python",
   "nbconvert_exporter": "python",
   "pygments_lexer": "ipython3",
   "version": "3.10.6"
  },
  "vscode": {
   "interpreter": {
    "hash": "f2a2bb78c9302046481df819ee28fc15c5bac393c017b7113ce128e30e8dbaf5"
   }
  }
 },
 "nbformat": 4,
 "nbformat_minor": 5
}
