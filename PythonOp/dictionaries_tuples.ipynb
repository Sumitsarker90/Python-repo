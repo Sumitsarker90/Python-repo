{
 "cells": [
  {
   "cell_type": "code",
   "execution_count": 1,
   "id": "142e321d",
   "metadata": {},
   "outputs": [
    {
     "name": "stdout",
     "output_type": "stream",
     "text": [
      "(1, 2, 3, 4, 5)\n",
      "1\n",
      "2\n",
      "3\n",
      "4\n",
      "5\n"
     ]
    }
   ],
   "source": [
    "tuples=(1,2,3,4,5)\n",
    "print(tuples)\n",
    "for count in tuples:\n",
    "    print(count)\n",
    "    "
   ]
  },
  {
   "cell_type": "code",
   "execution_count": 10,
   "id": "dc9dd818",
   "metadata": {},
   "outputs": [
    {
     "name": "stdout",
     "output_type": "stream",
     "text": [
      "1 2 3\n",
      "['sumit', 100, 'Banana']\n",
      "sumit\n",
      "Banana\n"
     ]
    }
   ],
   "source": [
    "#unpacking\n",
    "cordinates=(1,2,3)\n",
    "x,y,z=cordinates\n",
    "print(x,y,z)\n",
    "lists=['sumit',100,'Banana']\n",
    "print(lists)\n",
    "x,y,z=lists\n",
    "print(x)\n",
    "print(z)"
   ]
  },
  {
   "cell_type": "code",
   "execution_count": 13,
   "id": "052bee68",
   "metadata": {},
   "outputs": [
    {
     "name": "stdout",
     "output_type": "stream",
     "text": [
      "dict_keys(['name', 'age', 'number'])\n"
     ]
    }
   ],
   "source": [
    "student={\n",
    "    \"name\":\"sumit\",\n",
    "    \"age\":23,\n",
    "     'number':\"01727651724\"\n",
    "}\n",
    "print(student.keys())"
   ]
  },
  {
   "cell_type": "code",
   "execution_count": 15,
   "id": "be34bac4",
   "metadata": {},
   "outputs": [
    {
     "name": "stdout",
     "output_type": "stream",
     "text": [
      "Enter phone Number: 12345\n",
      "One Two Three Four ! \n"
     ]
    }
   ],
   "source": [
    "phone=input(\"Enter phone Number: \")\n",
    "numbers={\n",
    "    '1':\"One\",\n",
    "    \"2\":\"Two\",\n",
    "    '3':'Three',\n",
    "    '4':\"Four\"\n",
    "}\n",
    "output=\"\"\n",
    "for ch in phone:\n",
    "    output +=numbers.get(ch,\"!\")+\" \"\n",
    "print(output)    "
   ]
  },
  {
   "cell_type": "code",
   "execution_count": 19,
   "id": "87dfc19e",
   "metadata": {},
   "outputs": [
    {
     "name": "stdout",
     "output_type": "stream",
     "text": [
      ">good morning :)\n",
      "word word 😊 \n"
     ]
    }
   ],
   "source": [
    "message=input(\">\")\n",
    "words=message.split(' ')\n",
    "emojis={\n",
    "    \":)\":\"😊\",\n",
    "    \":(\":'😒'\n",
    "}\n",
    "output=''\n",
    "\n",
    "for word in words:\n",
    "    output+=emojis.get(word,\"word\")+\" \"\n",
    "print(output)    "
   ]
  },
  {
   "cell_type": "code",
   "execution_count": 20,
   "id": "5b988937",
   "metadata": {},
   "outputs": [
    {
     "name": "stdout",
     "output_type": "stream",
     "text": [
      "start\n",
      "Hi everyone\n",
      "how are you\n"
     ]
    }
   ],
   "source": [
    "def greet_user():\n",
    "    print(\"Hi everyone\")\n",
    "    print(\"how are you\")\n",
    "\n",
    "print('start')\n",
    "greet_user()"
   ]
  },
  {
   "cell_type": "code",
   "execution_count": 23,
   "id": "3292f52b",
   "metadata": {},
   "outputs": [
    {
     "data": {
      "text/plain": [
       "'sumit'"
      ]
     },
     "execution_count": 23,
     "metadata": {},
     "output_type": "execute_result"
    }
   ],
   "source": [
    "def name_call(name):\n",
    "    return name\n",
    "\n",
    "name_call('sumit')"
   ]
  },
  {
   "cell_type": "code",
   "execution_count": 30,
   "id": "6820f520",
   "metadata": {},
   "outputs": [
    {
     "data": {
      "text/plain": [
       "25"
      ]
     },
     "execution_count": 30,
     "metadata": {},
     "output_type": "execute_result"
    }
   ],
   "source": [
    "def square(number):\n",
    "    \n",
    "    return number*number\n",
    "    \n",
    "square(5)"
   ]
  },
  {
   "cell_type": "code",
   "execution_count": 35,
   "id": "76053c7b",
   "metadata": {},
   "outputs": [
    {
     "name": "stdout",
     "output_type": "stream",
     "text": [
      "age:0\n",
      "Age can not be 0\n",
      "Hello world\n"
     ]
    }
   ],
   "source": [
    "try:\n",
    "    age=int(input(\"age:\"))\n",
    "    income=2000\n",
    "    risk=income//age\n",
    "    print(income)\n",
    "    print(age)\n",
    "except ValueError:\n",
    "    print(\"Incorrect Age Type\")\n",
    "except ZeroDivisionError  :\n",
    "    print(\"Age can not be 0\")    \n",
    "\n",
    "print(\"Hello world\")\n",
    "    "
   ]
  },
  {
   "cell_type": "code",
   "execution_count": null,
   "id": "1b57904a",
   "metadata": {},
   "outputs": [],
   "source": []
  }
 ],
 "metadata": {
  "kernelspec": {
   "display_name": "Python 3 (ipykernel)",
   "language": "python",
   "name": "python3"
  },
  "language_info": {
   "codemirror_mode": {
    "name": "ipython",
    "version": 3
   },
   "file_extension": ".py",
   "mimetype": "text/x-python",
   "name": "python",
   "nbconvert_exporter": "python",
   "pygments_lexer": "ipython3",
   "version": "3.10.6"
  }
 },
 "nbformat": 4,
 "nbformat_minor": 5
}
