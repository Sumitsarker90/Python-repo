{
 "cells": [
  {
   "cell_type": "markdown",
   "id": "f7632be8",
   "metadata": {},
   "source": [
    "\n",
    "### Special types of Numpy"
   ]
  },
  {
   "cell_type": "code",
   "execution_count": 2,
   "id": "f3704c77",
   "metadata": {},
   "outputs": [
    {
     "name": "stdout",
     "output_type": "stream",
     "text": [
      "[0. 0. 0. 0.]\n",
      "\n",
      "[[0. 0. 0. 0.]\n",
      " [0. 0. 0. 0.]\n",
      " [0. 0. 0. 0.]]\n"
     ]
    }
   ],
   "source": [
    "# Zeros\n",
    "\n",
    "import numpy as np\n",
    "\n",
    "arrayZero=np.zeros(4)\n",
    "print(arrayZero)\n",
    "print()\n",
    "\n",
    "arzero=np.zeros((3,4))\n",
    "print(arzero)\n"
   ]
  },
  {
   "cell_type": "code",
   "execution_count": 4,
   "id": "233f6769",
   "metadata": {},
   "outputs": [
    {
     "name": "stdout",
     "output_type": "stream",
     "text": [
      "[1. 1. 1. 1. 1. 1.]\n",
      "\n",
      "[[1. 1. 1. 1. 1.]\n",
      " [1. 1. 1. 1. 1.]\n",
      " [1. 1. 1. 1. 1.]\n",
      " [1. 1. 1. 1. 1.]\n",
      " [1. 1. 1. 1. 1.]]\n"
     ]
    }
   ],
   "source": [
    "# Array filled with Ones\n",
    "\n",
    "arOne=np.ones(6)\n",
    "print(arOne)\n",
    "print()\n",
    "arone=np.ones((5,5))\n",
    "print(arone)"
   ]
  },
  {
   "cell_type": "code",
   "execution_count": 5,
   "id": "e6dc2bc4",
   "metadata": {},
   "outputs": [
    {
     "name": "stdout",
     "output_type": "stream",
     "text": [
      "[0. 0. 0. 0.]\n"
     ]
    }
   ],
   "source": [
    "# Array fill with empty\n",
    "ar_em=np.empty(4)\n",
    "print(ar_em)"
   ]
  },
  {
   "cell_type": "code",
   "execution_count": 10,
   "id": "0a949d9d",
   "metadata": {},
   "outputs": [
    {
     "name": "stdout",
     "output_type": "stream",
     "text": [
      "[0 1 2 3]\n",
      "\n",
      "[0 1 2 3 4 5]\n"
     ]
    }
   ],
   "source": [
    "# Array fill in range\n",
    "\n",
    "ar_range=np.arange(4)\n",
    "print(ar_range)\n",
    "print()\n",
    "\n",
    "ar_range1=np.arange(6)\n",
    "print(ar_range1)"
   ]
  },
  {
   "cell_type": "code",
   "execution_count": 11,
   "id": "59ed7fe7",
   "metadata": {},
   "outputs": [
    {
     "name": "stdout",
     "output_type": "stream",
     "text": [
      "[[1. 0. 0.]\n",
      " [0. 1. 0.]\n",
      " [0. 0. 1.]]\n"
     ]
    }
   ],
   "source": [
    "# Array with diagonal element\n",
    "\n",
    "ar_dia=np.eye(3)\n",
    "print(ar_dia)"
   ]
  },
  {
   "cell_type": "code",
   "execution_count": null,
   "id": "92838dca",
   "metadata": {},
   "outputs": [],
   "source": [
    "# ar_dia=np.eye(5,5)\n",
    "print(ar_dia)"
   ]
  },
  {
   "cell_type": "markdown",
   "id": "516a97d4",
   "metadata": {},
   "source": [
    "# linspace"
   ]
  },
  {
   "cell_type": "code",
   "execution_count": 14,
   "id": "5a203750",
   "metadata": {},
   "outputs": [
    {
     "name": "stdout",
     "output_type": "stream",
     "text": [
      "[ 0.   2.5  5.   7.5 10. ]\n"
     ]
    }
   ],
   "source": [
    "ar_lin=np.linspace(0,10,num=5)\n",
    "print(ar_lin)"
   ]
  },
  {
   "cell_type": "markdown",
   "id": "90a09e0f",
   "metadata": {},
   "source": [
    "# Numpy arrays with random numbers"
   ]
  },
  {
   "cell_type": "markdown",
   "id": "6ac82d28",
   "metadata": {},
   "source": [
    "## Rand function"
   ]
  },
  {
   "cell_type": "code",
   "execution_count": 2,
   "id": "cd72b5c0",
   "metadata": {},
   "outputs": [],
   "source": [
    "import numpy as np"
   ]
  },
  {
   "cell_type": "code",
   "execution_count": 19,
   "id": "7e510f21",
   "metadata": {},
   "outputs": [
    {
     "name": "stdout",
     "output_type": "stream",
     "text": [
      "[0.66036809 0.81128447 0.53484433 0.02231771 0.68083438]\n"
     ]
    }
   ],
   "source": [
    "var=np.random.rand(5)\n",
    "print(var)"
   ]
  },
  {
   "cell_type": "code",
   "execution_count": 20,
   "id": "536311ff",
   "metadata": {},
   "outputs": [
    {
     "name": "stdout",
     "output_type": "stream",
     "text": [
      "[[0.23605365 0.90185205 0.24515462 0.13591757 0.40212536]\n",
      " [0.3545534  0.92292477 0.48358288 0.57467362 0.31972894]]\n"
     ]
    }
   ],
   "source": [
    "var1=np.random.rand(2,5)\n",
    "print(var1)"
   ]
  },
  {
   "cell_type": "markdown",
   "id": "b022f9c0",
   "metadata": {},
   "source": [
    "## randn()\n",
    "- the funciton is used to generate a random value close to zero.\n",
    "- This may return postive or negative numbers as well,\n",
    "\n",
    "## ranf()\n",
    "\n",
    "- the function for doing random smapling in numpy .\n",
    "- it returns an array of specified shape and fills it with \n",
    "- random floats in the half open interval"
   ]
  },
  {
   "cell_type": "markdown",
   "id": "5a05aad7",
   "metadata": {},
   "source": [
    "# randn()"
   ]
  },
  {
   "cell_type": "code",
   "execution_count": 21,
   "id": "9e14716c",
   "metadata": {},
   "outputs": [
    {
     "name": "stdout",
     "output_type": "stream",
     "text": [
      "[-2.34693634 -0.71932166  0.47273607 -1.37771338 -0.40961353  0.81842575\n",
      "  1.13037783 -1.04004298 -0.94106074  0.96053217]\n"
     ]
    }
   ],
   "source": [
    "var2=np.random.randn(10)\n",
    "print(var2)"
   ]
  },
  {
   "cell_type": "markdown",
   "id": "f6feb64c",
   "metadata": {},
   "source": [
    "# ranf()"
   ]
  },
  {
   "cell_type": "code",
   "execution_count": 23,
   "id": "04446c7a",
   "metadata": {},
   "outputs": [
    {
     "name": "stdout",
     "output_type": "stream",
     "text": [
      "[0.35286976 0.33962264 0.27945821 0.09204222 0.73605175 0.49428432\n",
      " 0.92537895 0.9549659  0.20402249 0.47766906 0.15845388 0.69840912]\n"
     ]
    }
   ],
   "source": [
    "var3=np.random.ranf(12)\n",
    "print(var3)"
   ]
  },
  {
   "cell_type": "markdown",
   "id": "2e99ba2d",
   "metadata": {},
   "source": [
    "## Randint()\n",
    "- this function is used to generate a random number from given range"
   ]
  },
  {
   "cell_type": "code",
   "execution_count": 27,
   "id": "7c3a8691",
   "metadata": {},
   "outputs": [
    {
     "name": "stdout",
     "output_type": "stream",
     "text": [
      "[9 7 8 7 9 6 7 5 9 9 5 6 5 8 5]\n"
     ]
    }
   ],
   "source": [
    "var4=np.random.randint(5,10,15) # min,max,total numbers\n",
    "print(var4)"
   ]
  },
  {
   "cell_type": "code",
   "execution_count": null,
   "id": "72edd870",
   "metadata": {},
   "outputs": [],
   "source": [
    "## Data Type of numpy arrays"
   ]
  },
  {
   "cell_type": "code",
   "execution_count": 3,
   "id": "8f1bac70",
   "metadata": {},
   "outputs": [
    {
     "name": "stdout",
     "output_type": "stream",
     "text": [
      "Data Type:  int32\n"
     ]
    }
   ],
   "source": [
    "var=np.array([1,2,3,4])\n",
    "print(\"Data Type: \",var.dtype)"
   ]
  },
  {
   "cell_type": "code",
   "execution_count": 4,
   "id": "ab4b6a97",
   "metadata": {},
   "outputs": [
    {
     "name": "stdout",
     "output_type": "stream",
     "text": [
      "Data Type:  float64\n"
     ]
    }
   ],
   "source": [
    "var=np.array([1.0,2.5,3,4])\n",
    "print(\"Data Type: \",var.dtype)"
   ]
  },
  {
   "cell_type": "code",
   "execution_count": 5,
   "id": "1a433d3a",
   "metadata": {},
   "outputs": [
    {
     "name": "stdout",
     "output_type": "stream",
     "text": [
      "Data Type:  <U1\n"
     ]
    }
   ],
   "source": [
    "letters=np.array(['A','b','c','d'])\n",
    "print(\"Data Type: \",letters.dtype)"
   ]
  },
  {
   "cell_type": "code",
   "execution_count": 6,
   "id": "ab021c71",
   "metadata": {},
   "outputs": [
    {
     "name": "stdout",
     "output_type": "stream",
     "text": [
      "Data Type:  <U11\n"
     ]
    }
   ],
   "source": [
    "mixed=np.array(['A','b','c','d',1,2,3,4])\n",
    "print(\"Data Type: \",mixed.dtype)"
   ]
  },
  {
   "cell_type": "markdown",
   "id": "e2e71023",
   "metadata": {},
   "source": [
    "## Data types as function\n",
    "- i- integer\n",
    "- b- boolean\n",
    "- u- unsigned integer\n",
    "- f- float\n",
    "- c- complex float\n",
    "- m- timedelta\n",
    "- M- datetime\n",
    "- O- object\n",
    "- S- string\n",
    "- U- unicode string"
   ]
  },
  {
   "cell_type": "code",
   "execution_count": 10,
   "id": "920ed6ba",
   "metadata": {},
   "outputs": [
    {
     "name": "stdout",
     "output_type": "stream",
     "text": [
      "Data Type:  int8\n",
      "[1 2 3 4]\n"
     ]
    }
   ],
   "source": [
    "x=np.array([1,2,3,4],dtype=np.int8)\n",
    "\n",
    "print(\"Data Type: \",x.dtype)\n",
    "print(x)"
   ]
  },
  {
   "cell_type": "code",
   "execution_count": 11,
   "id": "59f20f0b",
   "metadata": {},
   "outputs": [
    {
     "name": "stdout",
     "output_type": "stream",
     "text": [
      "Data Type:  float32\n",
      "[1. 2. 3. 4.]\n"
     ]
    }
   ],
   "source": [
    "x1=np.array([1,2,3,4],dtype=\"f\")\n",
    "\n",
    "print(\"Data Type: \",x1.dtype)\n",
    "print(x1)"
   ]
  },
  {
   "cell_type": "code",
   "execution_count": 15,
   "id": "3fc00174",
   "metadata": {},
   "outputs": [
    {
     "name": "stdout",
     "output_type": "stream",
     "text": [
      "[1 2 3 4]\n",
      "[1. 2. 3. 4.]\n",
      "Data Type:  float32\n"
     ]
    }
   ],
   "source": [
    "x2=np.array([1,2,3,4])\n",
    "new=np.float32(x2)\n",
    "print(x2)\n",
    "print(new)\n",
    "print(\"Data Type: \",new.dtype)"
   ]
  },
  {
   "cell_type": "code",
   "execution_count": 16,
   "id": "eeb1bf53",
   "metadata": {},
   "outputs": [
    {
     "name": "stdout",
     "output_type": "stream",
     "text": [
      "[1. 2. 3. 4.]\n"
     ]
    }
   ],
   "source": [
    "new1=x2.astype(float)\n",
    "print(new1)"
   ]
  },
  {
   "cell_type": "code",
   "execution_count": null,
   "id": "a481218d",
   "metadata": {},
   "outputs": [],
   "source": []
  }
 ],
 "metadata": {
  "kernelspec": {
   "display_name": "Python 3 (ipykernel)",
   "language": "python",
   "name": "python3"
  },
  "language_info": {
   "codemirror_mode": {
    "name": "ipython",
    "version": 3
   },
   "file_extension": ".py",
   "mimetype": "text/x-python",
   "name": "python",
   "nbconvert_exporter": "python",
   "pygments_lexer": "ipython3",
   "version": "3.10.6"
  }
 },
 "nbformat": 4,
 "nbformat_minor": 5
}
