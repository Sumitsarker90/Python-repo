{
 "cells": [
  {
   "cell_type": "code",
   "execution_count": null,
   "id": "4744759c",
   "metadata": {},
   "outputs": [],
   "source": [
    "import urllib.request as request\n",
    "import numpy as np\n",
    "import cv2\n",
    "form PIL import Image\n",
    "url='http://192.168.1.102:8080/shot.jpg?rnd=241626'\n",
    "while True:\n",
    "    img=request.urlopen(url)\n",
    "    img_bytes=bytearray(img.read())\n",
    "    img_np=np.array(img_bytes, dtype=np.uint8)\n",
    "    frame=cv2.imdecode(img_np,-1)\n",
    "    cv2.imshow(\"My scenner\",frame)\n",
    "    if cv2.waitKey(1)== ord('s'):\n",
    "        img_p=Image.fromarray(frame)\n",
    "        img_p.save('my_scenned_file.pdf')\n",
    "        print('save')\n",
    "        \n",
    "    "
   ]
  },
  {
   "cell_type": "code",
   "execution_count": null,
   "id": "99921675",
   "metadata": {},
   "outputs": [],
   "source": []
  }
 ],
 "metadata": {
  "kernelspec": {
   "display_name": "Python 3 (ipykernel)",
   "language": "python",
   "name": "python3"
  },
  "language_info": {
   "codemirror_mode": {
    "name": "ipython",
    "version": 3
   },
   "file_extension": ".py",
   "mimetype": "text/x-python",
   "name": "python",
   "nbconvert_exporter": "python",
   "pygments_lexer": "ipython3",
   "version": "3.10.6"
  }
 },
 "nbformat": 4,
 "nbformat_minor": 5
}
