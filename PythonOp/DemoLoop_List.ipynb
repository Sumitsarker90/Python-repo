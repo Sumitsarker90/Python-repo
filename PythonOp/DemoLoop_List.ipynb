{
 "cells": [
  {
   "cell_type": "markdown",
   "id": "f83a2ddf",
   "metadata": {},
   "source": [
    "###  a loop is a sequence of instruction s that is continually repeated until a certain condition is reached.\n",
    " - For loop\n",
    " - Whiel loop \n",
    " - Do While loop\n",
    " - Foreach loop"
   ]
  },
  {
   "cell_type": "code",
   "execution_count": 7,
   "id": "e9c25c30",
   "metadata": {},
   "outputs": [
    {
     "name": "stdout",
     "output_type": "stream",
     "text": [
      "1\n",
      "2\n",
      "3\n",
      "4\n",
      "5\n",
      "Done\n"
     ]
    }
   ],
   "source": [
    "i=1;\n",
    "while i<6:\n",
    "    print(i)\n",
    "    i +=1;\n",
    "print('Done')"
   ]
  },
  {
   "cell_type": "code",
   "execution_count": 13,
   "id": "903fa868",
   "metadata": {},
   "outputs": [
    {
     "name": "stdout",
     "output_type": "stream",
     "text": [
      "2\n",
      "3\n",
      "4\n",
      "5\n",
      "6\n",
      "Done\n"
     ]
    }
   ],
   "source": [
    "i=1;\n",
    "while i<6 :\n",
    "    i +=1;\n",
    "    print(i)\n",
    "print('Done')"
   ]
  },
  {
   "cell_type": "markdown",
   "id": "25b049e4",
   "metadata": {},
   "source": [
    "## chossing the correct number game"
   ]
  },
  {
   "cell_type": "code",
   "execution_count": 12,
   "id": "ba9160ad",
   "metadata": {},
   "outputs": [
    {
     "name": "stdout",
     "output_type": "stream",
     "text": [
      "Guess? 4\n",
      "Guess? 4\n",
      "Guess? 5\n",
      "You losse\n"
     ]
    }
   ],
   "source": [
    "secret_number=7\n",
    "guess_count=0\n",
    "guess_limit=3\n",
    "\n",
    "while guess_count<guess_limit:\n",
    "    guess=int(input(\"Guess? \"))\n",
    "    guess_count+=1\n",
    "    if guess ==secret_number:\n",
    "        print(\"You Won!\")\n",
    "        6\n",
    "else:\n",
    "    print(\"You losse\")"
   ]
  },
  {
   "cell_type": "markdown",
   "id": "34c76d2d",
   "metadata": {},
   "source": [
    "## Car Game!"
   ]
  },
  {
   "cell_type": "code",
   "execution_count": null,
   "id": "889ad463",
   "metadata": {},
   "outputs": [],
   "source": [
    "command=\"\"\n",
    "while  True:\n",
    "    command= input(\"> \").lower()\n",
    "    if command==\"start\":\n",
    "        print(\"The car is started!\")\n",
    "    elif command ==\"stop\":\n",
    "        print(\"The car is stopped!\")\n",
    "    elif command==\"help\":\n",
    "        print(\n",
    "        '''\n",
    "start---start the car\n",
    "stop----stop the car\n",
    "quit----to quit\n",
    "        \n",
    "        ''')\n",
    "    elif command==\"quit\":\n",
    "        print(\"quited !\")\n",
    "        break;\n",
    "    else:\n",
    "        print(\"Sorry, Wrong Command!\")\n",
    "    \n",
    "    \n",
    "    \n",
    "        "
   ]
  },
  {
   "cell_type": "markdown",
   "id": "39298c1b",
   "metadata": {},
   "source": [
    "## For loop"
   ]
  },
  {
   "cell_type": "code",
   "execution_count": 9,
   "id": "b19fdb6c",
   "metadata": {},
   "outputs": [
    {
     "name": "stdout",
     "output_type": "stream",
     "text": [
      "ab\n",
      "bc\n",
      "cd\n",
      "de\n",
      "0\n",
      "  \n",
      "1\n",
      "  \n",
      "2\n",
      "  \n",
      "3\n",
      "  \n",
      "4\n",
      "  \n",
      "5\n",
      "  \n",
      "6\n",
      "  \n",
      "7\n",
      "  \n",
      "8\n",
      "  \n",
      "9\n",
      "  \n",
      "2\n",
      "4\n",
      "6\n",
      "8\n"
     ]
    }
   ],
   "source": [
    " for item in ['ab','bc','cd','de']:\n",
    "        print(item)\n",
    "\n",
    "for item in range(10):\n",
    "    print(item)\n",
    "    print('  ')\n",
    "for item in range(2,10,2):\n",
    "    print(item)\n",
    "        "
   ]
  },
  {
   "cell_type": "code",
   "execution_count": 13,
   "id": "aec4393a",
   "metadata": {},
   "outputs": [
    {
     "name": "stdout",
     "output_type": "stream",
     "text": [
      "Total price: 100\n"
     ]
    }
   ],
   "source": [
    "prices=[10,20,30,40]\n",
    "total=0\n",
    "for item in prices:\n",
    "    total +=item\n",
    "print(f\"Total price: {total}\")"
   ]
  },
  {
   "cell_type": "markdown",
   "id": "229628cc",
   "metadata": {},
   "source": [
    "### Nested loop\n"
   ]
  },
  {
   "cell_type": "code",
   "execution_count": 14,
   "id": "e48be7e8",
   "metadata": {},
   "outputs": [
    {
     "name": "stdout",
     "output_type": "stream",
     "text": [
      "0, 0\n",
      "0, 1\n",
      "0, 2\n",
      "1, 0\n",
      "1, 1\n",
      "1, 2\n",
      "2, 0\n",
      "2, 1\n",
      "2, 2\n",
      "3, 0\n",
      "3, 1\n",
      "3, 2\n"
     ]
    }
   ],
   "source": [
    "for x in range(4):\n",
    "    for y in range(3):\n",
    "        print(f\"{x}, {y}\")"
   ]
  },
  {
   "cell_type": "code",
   "execution_count": 20,
   "id": "5bdacce2",
   "metadata": {},
   "outputs": [
    {
     "name": "stdout",
     "output_type": "stream",
     "text": [
      "OO\n",
      "O\n",
      "O\n",
      "O\n",
      "OOOOO\n"
     ]
    }
   ],
   "source": [
    "numbers=[2,1,1,1,5]\n",
    "for number in numbers:\n",
    "    output=\"\"\n",
    "    for count in range(number):\n",
    "        output +=\"O\"\n",
    "    print(output)"
   ]
  },
  {
   "cell_type": "code",
   "execution_count": 25,
   "id": "303fe6a7",
   "metadata": {
    "scrolled": true
   },
   "outputs": [
    {
     "name": "stdout",
     "output_type": "stream",
     "text": [
      "Taru\n",
      "Mohok\n",
      "['Taru', 'Ratul']\n",
      "['Bappi', 'Taru', 'Ratul', 'Mohok']\n"
     ]
    }
   ],
   "source": [
    "names=['Sumit','Taru',\"Ratul\",'Mohok']\n",
    "print(names[1])\n",
    "print(names[-1])\n",
    "print(names[1:3])\n",
    "names[0]='Bappi'\n",
    "print(names)"
   ]
  },
  {
   "cell_type": "code",
   "execution_count": 28,
   "id": "a1265d1d",
   "metadata": {},
   "outputs": [
    {
     "name": "stdout",
     "output_type": "stream",
     "text": [
      "10\n"
     ]
    }
   ],
   "source": [
    "#Find Out the largest number in List:\n",
    "numbers=[5,7,10,2,4]\n",
    "max=numbers[0]\n",
    "for number in numbers:\n",
    "    if max<number:\n",
    "        max=number\n",
    "print(max)"
   ]
  },
  {
   "cell_type": "markdown",
   "id": "c61dff63",
   "metadata": {},
   "source": [
    "## 2D Lists"
   ]
  },
  {
   "cell_type": "code",
   "execution_count": 34,
   "id": "aed559b8",
   "metadata": {},
   "outputs": [
    {
     "name": "stdout",
     "output_type": "stream",
     "text": [
      "[[1, 2, 3], [4, 10, 6], [7, 8, 9]]\n",
      "1\n",
      "2\n",
      "3\n",
      "4\n",
      "10\n",
      "6\n",
      "7\n",
      "8\n",
      "9\n"
     ]
    }
   ],
   "source": [
    "#Matrix\n",
    "matrix=[\n",
    "    [1,2,3],\n",
    "    [4,5,6],\n",
    "    [7,8,9]\n",
    "]\n",
    "matrix[1][1]=10\n",
    "print(matrix)\n",
    "for row in matrix:\n",
    "    for item in row:\n",
    "        print(item)"
   ]
  },
  {
   "cell_type": "code",
   "execution_count": 45,
   "id": "5121d138",
   "metadata": {},
   "outputs": [
    {
     "name": "stdout",
     "output_type": "stream",
     "text": [
      "[1, 2, 3, 4, 5]\n",
      "[5, 4, 3, 2, 1]\n",
      "[12, 5, 4, 3, 2, 1]\n",
      "[12, 5, 4, 3, 2, 1, 10]\n",
      "[1, 2, 3, 4, 5, 10, 12]\n"
     ]
    }
   ],
   "source": [
    "list=[1,2,3,4,5]\n",
    "print(list)\n",
    "list.reverse()\n",
    "print(list)\n",
    "list.insert(0,12)\n",
    "print(list)\n",
    "\n",
    "\n",
    "\n",
    "list.append(10)\n",
    "print(list)\n",
    "list.sort()\n",
    "print(list)"
   ]
  },
  {
   "cell_type": "code",
   "execution_count": 50,
   "id": "a96ce150",
   "metadata": {},
   "outputs": [
    {
     "name": "stdout",
     "output_type": "stream",
     "text": [
      "1\n",
      "2\n",
      "2\n",
      "2\n",
      "3\n",
      "2\n",
      "4\n",
      "2\n"
     ]
    }
   ],
   "source": [
    "#Tuples\n",
    "number=(1,2,3,4)\n",
    "\n",
    "for item in number:\n",
    "    print(item)\n",
    "    print(number[1])"
   ]
  },
  {
   "cell_type": "code",
   "execution_count": 7,
   "id": "2133e54d",
   "metadata": {},
   "outputs": [
    {
     "name": "stdout",
     "output_type": "stream",
     "text": [
      "1000\n"
     ]
    }
   ],
   "source": [
    "x=1000\n",
    "\n",
    "print(x)"
   ]
  },
  {
   "cell_type": "code",
   "execution_count": null,
   "id": "2977be8a",
   "metadata": {},
   "outputs": [],
   "source": []
  }
 ],
 "metadata": {
  "kernelspec": {
   "display_name": "Python 3 (ipykernel)",
   "language": "python",
   "name": "python3"
  },
  "language_info": {
   "codemirror_mode": {
    "name": "ipython",
    "version": 3
   },
   "file_extension": ".py",
   "mimetype": "text/x-python",
   "name": "python",
   "nbconvert_exporter": "python",
   "pygments_lexer": "ipython3",
   "version": "3.10.6"
  }
 },
 "nbformat": 4,
 "nbformat_minor": 5
}
