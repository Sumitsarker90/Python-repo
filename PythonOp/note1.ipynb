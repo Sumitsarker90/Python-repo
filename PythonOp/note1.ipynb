{
 "cells": [
  {
   "cell_type": "code",
   "execution_count": 2,
   "metadata": {},
   "outputs": [
    {
     "name": "stdout",
     "output_type": "stream",
     "text": [
      "\n"
     ]
    }
   ],
   "source": [
    "name=input( \"Enter your name?\")\n",
    "print(name)"
   ]
  },
  {
   "cell_type": "code",
   "execution_count": 3,
   "metadata": {},
   "outputs": [
    {
     "name": "stdout",
     "output_type": "stream",
     "text": [
      " Sumit, You will be 100 in 2099\n"
     ]
    }
   ],
   "source": [
    "year=2022\n",
    "name=input('Enter Your Name: ')\n",
    "age=int(input('Enter Your Age: '))\n",
    "cencury=year-age+100\n",
    "print(f' {name}, You will be 100 in {cencury}')"
   ]
  },
  {
   "cell_type": "code",
   "execution_count": null,
   "metadata": {},
   "outputs": [],
   "source": []
  }
 ],
 "metadata": {
  "kernelspec": {
   "display_name": "Python 3.10.6 64-bit",
   "language": "python",
   "name": "python3"
  },
  "language_info": {
   "codemirror_mode": {
    "name": "ipython",
    "version": 3
   },
   "file_extension": ".py",
   "mimetype": "text/x-python",
   "name": "python",
   "nbconvert_exporter": "python",
   "pygments_lexer": "ipython3",
   "version": "3.10.6"
  },
  "orig_nbformat": 4,
  "vscode": {
   "interpreter": {
    "hash": "f2a2bb78c9302046481df819ee28fc15c5bac393c017b7113ce128e30e8dbaf5"
   }
  }
 },
 "nbformat": 4,
 "nbformat_minor": 2
}
