{
 "cells": [
  {
   "cell_type": "code",
   "execution_count": 1,
   "id": "c8ebb949",
   "metadata": {},
   "outputs": [
    {
     "name": "stdout",
     "output_type": "stream",
     "text": [
      "draw\n",
      "move\n"
     ]
    }
   ],
   "source": [
    "class Point:\n",
    "    def move(self):\n",
    "        print('move')\n",
    "    def draw(self):\n",
    "        print('draw')\n",
    "\n",
    "p1=Point()\n",
    "p1.draw()\n",
    "p1.move()"
   ]
  },
  {
   "cell_type": "code",
   "execution_count": 15,
   "id": "6e21c32c",
   "metadata": {},
   "outputs": [
    {
     "ename": "IndentationError",
     "evalue": "unindent does not match any outer indentation level (<tokenize>, line 8)",
     "output_type": "error",
     "traceback": [
      "\u001b[1;36m  File \u001b[1;32m<tokenize>:8\u001b[1;36m\u001b[0m\n\u001b[1;33m    def talk(self):\u001b[0m\n\u001b[1;37m    ^\u001b[0m\n\u001b[1;31mIndentationError\u001b[0m\u001b[1;31m:\u001b[0m unindent does not match any outer indentation level\n"
     ]
    }
   ],
   "source": [
    "# Constructor\n",
    "\n",
    "class Person:\n",
    "    \n",
    "     def __init__(self, name):\n",
    "        self.name=name\n",
    "        \n",
    "    def talk(self):\n",
    "        print(f'{self.name} is Talking')\n",
    "        \n",
    "\n",
    "p1=Person('Sumit')\n",
    "print(p1.name)\n",
    "print(p1.talk())\n"
   ]
  },
  {
   "cell_type": "code",
   "execution_count": 19,
   "id": "2adcad2a",
   "metadata": {},
   "outputs": [
    {
     "name": "stdout",
     "output_type": "stream",
     "text": [
      "Hi, i am Sumit Sarker\n"
     ]
    }
   ],
   "source": [
    "class Person:\n",
    "    \n",
    "    def __init__(self, name):\n",
    "        self.name=name\n",
    "        \n",
    "        \n",
    "    def talk(self):\n",
    "        print(f\"Hi, i am {self.name}\")\n",
    "        \n",
    "    def intro(self):\n",
    "        print('Hi, I am a Student')\n",
    "        \n",
    "        \n",
    "person=Person('Sumit Sarker')\n",
    "person.talk()"
   ]
  },
  {
   "cell_type": "code",
   "execution_count": 20,
   "id": "2485cf00",
   "metadata": {},
   "outputs": [
    {
     "name": "stdout",
     "output_type": "stream",
     "text": [
      "Hi, I am a Student\n",
      "Hi, Your CGPA is: 3.41\n"
     ]
    }
   ],
   "source": [
    "class Student(Person):\n",
    "    \n",
    "    def __init__(self,cgpa):\n",
    "        self.cgpa=cgpa\n",
    "    \n",
    "    def result(self):\n",
    "        print(f\"Hi, Your CGPA is: {self.cgpa}\")\n",
    "        \n",
    "sumit=Student(3.41)\n",
    "sumit.intro();\n",
    "sumit.result();\n",
    "\n",
    "\n",
    "    "
   ]
  },
  {
   "cell_type": "code",
   "execution_count": null,
   "id": "ee9354df",
   "metadata": {},
   "outputs": [],
   "source": []
  }
 ],
 "metadata": {
  "kernelspec": {
   "display_name": "Python 3 (ipykernel)",
   "language": "python",
   "name": "python3"
  },
  "language_info": {
   "codemirror_mode": {
    "name": "ipython",
    "version": 3
   },
   "file_extension": ".py",
   "mimetype": "text/x-python",
   "name": "python",
   "nbconvert_exporter": "python",
   "pygments_lexer": "ipython3",
   "version": "3.10.6"
  }
 },
 "nbformat": 4,
 "nbformat_minor": 5
}
