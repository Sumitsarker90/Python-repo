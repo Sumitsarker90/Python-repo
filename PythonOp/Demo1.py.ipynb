{
 "cells": [
  {
   "cell_type": "code",
   "execution_count": 1,
   "id": "5cc5be26",
   "metadata": {},
   "outputs": [
    {
     "name": "stdout",
     "output_type": "stream",
     "text": [
      "Hello world\n"
     ]
    }
   ],
   "source": [
    "print(\"Hello world\")"
   ]
  },
  {
   "cell_type": "code",
   "execution_count": 2,
   "id": "b380d5d1",
   "metadata": {},
   "outputs": [
    {
     "name": "stdout",
     "output_type": "stream",
     "text": [
      "This is a General Calculator...!\n",
      "Enter The Numbers: ---?\n"
     ]
    }
   ],
   "source": [
    "print(\"This is a General Calculator...!\")\n",
    "print(\"Enter The Numbers: ---?\")\n",
    "a=int(input(\"Enter The 1st Number:  \"))\n",
    "b=int(input(\"Enter The 2nd Number:  \"))\n",
    "print(\"Addition:\",a+b)\n",
    "print(\"Subtration:\",a-b)\n",
    "print(\"Multipication:\",a*b)\n",
    "print(\"Division:\",a/b)"
   ]
  },
  {
   "cell_type": "code",
   "execution_count": null,
   "id": "ecc3ca2c",
   "metadata": {},
   "outputs": [
    {
     "name": "stdout",
     "output_type": "stream",
     "text": [
      "Hello Sumit\n"
     ]
    }
   ],
   "source": [
    "print(\"Hello Sumit\")"
   ]
  },
  {
   "cell_type": "markdown",
   "id": "8189ba0f",
   "metadata": {},
   "source": [
    "## python Variable -\n",
    " - Integer\n",
    " - Float\n",
    " - Double\n",
    " - Boolean\n",
    " - String"
   ]
  },
  {
   "cell_type": "code",
   "execution_count": null,
   "id": "a0cf56b9",
   "metadata": {},
   "outputs": [
    {
     "data": {
      "text/plain": [
       "'This is Sumit'"
      ]
     },
     "execution_count": 1,
     "metadata": {},
     "output_type": "execute_result"
    }
   ],
   "source": [
    "\"This is Sumit\""
   ]
  },
  {
   "cell_type": "code",
   "execution_count": null,
   "id": "9853bc51",
   "metadata": {},
   "outputs": [
    {
     "name": "stdout",
     "output_type": "stream",
     "text": [
      "Hello world\n"
     ]
    }
   ],
   "source": [
    "print(\"Hello world\")"
   ]
  },
  {
   "cell_type": "code",
   "execution_count": null,
   "id": "6a691851",
   "metadata": {},
   "outputs": [
    {
     "name": "stdout",
     "output_type": "stream",
     "text": [
      "S\n",
      "u\n",
      "m\n",
      "i\n",
      "t\n",
      " \n",
      "S\n",
      "a\n",
      "r\n",
      "k\n",
      "e\n",
      "r\n"
     ]
    }
   ],
   "source": [
    "name='Sumit Sarker';\n",
    "for x in name:\n",
    "    print(x)"
   ]
  },
  {
   "cell_type": "code",
   "execution_count": null,
   "id": "f09465c6",
   "metadata": {},
   "outputs": [],
   "source": []
  },
  {
   "cell_type": "code",
   "execution_count": null,
   "id": "60894465",
   "metadata": {},
   "outputs": [],
   "source": []
  },
  {
   "cell_type": "code",
   "execution_count": null,
   "id": "9fd25dcb",
   "metadata": {},
   "outputs": [],
   "source": []
  },
  {
   "cell_type": "code",
   "execution_count": null,
   "id": "41a14acd",
   "metadata": {},
   "outputs": [],
   "source": []
  }
 ],
 "metadata": {
  "kernelspec": {
   "display_name": "Python 3.10.6 64-bit",
   "language": "python",
   "name": "python3"
  },
  "language_info": {
   "codemirror_mode": {
    "name": "ipython",
    "version": 3
   },
   "file_extension": ".py",
   "mimetype": "text/x-python",
   "name": "python",
   "nbconvert_exporter": "python",
   "pygments_lexer": "ipython3",
   "version": "3.10.6"
  },
  "vscode": {
   "interpreter": {
    "hash": "f2a2bb78c9302046481df819ee28fc15c5bac393c017b7113ce128e30e8dbaf5"
   }
  }
 },
 "nbformat": 4,
 "nbformat_minor": 5
}
