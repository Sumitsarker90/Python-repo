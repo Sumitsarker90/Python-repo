{
 "cells": [
  {
   "cell_type": "code",
   "execution_count": 29,
   "id": "63dd93cc",
   "metadata": {},
   "outputs": [
    {
     "name": "stdout",
     "output_type": "stream",
     "text": [
      "hello world!\n"
     ]
    }
   ],
   "source": [
    "print('hello world!')"
   ]
  },
  {
   "cell_type": "code",
   "execution_count": 30,
   "id": "4cb44d19",
   "metadata": {},
   "outputs": [
    {
     "name": "stdout",
     "output_type": "stream",
     "text": [
      "<class 'str'>\n",
      "<class 'int'>\n",
      "10\n",
      "2\n"
     ]
    }
   ],
   "source": [
    "print(type('Sumit'))\n",
    "print(type(10))\n",
    "print(10)\n",
    "print(100//50)"
   ]
  },
  {
   "cell_type": "code",
   "execution_count": 35,
   "id": "b29bbda6",
   "metadata": {},
   "outputs": [
    {
     "name": "stdout",
     "output_type": "stream",
     "text": [
      "1000\n",
      "8\n",
      "16\n"
     ]
    }
   ],
   "source": [
    "print(10**3)\n",
    "x=10\n",
    "x += 3\n",
    "x -=5\n",
    "print(x)\n",
    "x=10+3*2\n",
    "print(x)\n"
   ]
  },
  {
   "cell_type": "code",
   "execution_count": 9,
   "id": "6f563ee9",
   "metadata": {},
   "outputs": [
    {
     "name": "stdout",
     "output_type": "stream",
     "text": [
      "What is your name? 100\n",
      "200\n"
     ]
    }
   ],
   "source": [
    "name= input('What is your name? ')\n",
    "add=int(name)+100\n",
    "print(add)"
   ]
  },
  {
   "cell_type": "code",
   "execution_count": 11,
   "id": "63124fa1",
   "metadata": {},
   "outputs": [
    {
     "data": {
      "text/plain": [
       "200"
      ]
     },
     "execution_count": 11,
     "metadata": {},
     "output_type": "execute_result"
    }
   ],
   "source": [
    "def addition(a,b):\n",
    "     return a*b\n",
    "addition(10,20)\n"
   ]
  },
  {
   "cell_type": "code",
   "execution_count": 15,
   "id": "fc249d68",
   "metadata": {},
   "outputs": [
    {
     "name": "stdout",
     "output_type": "stream",
     "text": [
      "worl\n"
     ]
    }
   ],
   "source": [
    "course='Hello world'\n",
    "print(course[6:10])"
   ]
  },
  {
   "cell_type": "markdown",
   "id": "d568257e",
   "metadata": {},
   "source": [
    "##  Formetted String"
   ]
  },
  {
   "cell_type": "code",
   "execution_count": 16,
   "id": "5fff190f",
   "metadata": {},
   "outputs": [
    {
     "name": "stdout",
     "output_type": "stream",
     "text": [
      "Sumit[Sarker] is a coder\n"
     ]
    }
   ],
   "source": [
    "first='Sumit'\n",
    "last='Sarker'\n",
    "mass=f'{first}[{last}] is a coder'\n",
    "print(mass)"
   ]
  },
  {
   "cell_type": "markdown",
   "id": "01014e1d",
   "metadata": {},
   "source": [
    "## String methods\n",
    "- len() # print(len(course))\n",
    "- course.upper()\n",
    "- course.lower()\n",
    "- course.title()\n",
    "- course.find()\n",
    "- course.replace()\n",
    "- \"any string\" in course\n"
   ]
  },
  {
   "cell_type": "code",
   "execution_count": 17,
   "id": "e6b68956",
   "metadata": {},
   "outputs": [
    {
     "name": "stdout",
     "output_type": "stream",
     "text": [
      "11\n"
     ]
    }
   ],
   "source": [
    "print(len(course))"
   ]
  },
  {
   "cell_type": "code",
   "execution_count": 28,
   "id": "6eeb1708",
   "metadata": {},
   "outputs": [
    {
     "name": "stdout",
     "output_type": "stream",
     "text": [
      "HELLO WORLD\n",
      "hello world\n",
      "Hello world\n",
      "5\n",
      "Hi world\n",
      "False\n"
     ]
    }
   ],
   "source": [
    "print(course.upper())\n",
    "print(course.lower())\n",
    "print(course)\n",
    "print(course.find(' '))\n",
    "print(course.replace('Hello', 'Hi'))\n",
    "print('hello' in course)\n",
    "\n"
   ]
  },
  {
   "cell_type": "code",
   "execution_count": null,
   "id": "55cc2ab0",
   "metadata": {},
   "outputs": [],
   "source": []
  },
  {
   "cell_type": "code",
   "execution_count": null,
   "id": "9967c79d",
   "metadata": {},
   "outputs": [],
   "source": []
  },
  {
   "cell_type": "code",
   "execution_count": null,
   "id": "87563748",
   "metadata": {},
   "outputs": [],
   "source": []
  },
  {
   "cell_type": "code",
   "execution_count": null,
   "id": "7a8f5566",
   "metadata": {},
   "outputs": [],
   "source": []
  }
 ],
 "metadata": {
  "kernelspec": {
   "display_name": "Python 3 (ipykernel)",
   "language": "python",
   "name": "python3"
  },
  "language_info": {
   "codemirror_mode": {
    "name": "ipython",
    "version": 3
   },
   "file_extension": ".py",
   "mimetype": "text/x-python",
   "name": "python",
   "nbconvert_exporter": "python",
   "pygments_lexer": "ipython3",
   "version": "3.10.6"
  }
 },
 "nbformat": 4,
 "nbformat_minor": 5
}
