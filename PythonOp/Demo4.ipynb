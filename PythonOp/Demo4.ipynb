{
 "cells": [
  {
   "cell_type": "code",
   "execution_count": 7,
   "id": "c23a2d6c",
   "metadata": {},
   "outputs": [
    {
     "name": "stdout",
     "output_type": "stream",
     "text": [
      "Enjoy Your day\n"
     ]
    }
   ],
   "source": [
    "is_hot=False\n",
    "is_cold=False\n",
    "\n",
    "\n",
    "if is_hot:\n",
    "    print('It is a very hot day')\n",
    "    print('Drink planty of water')\n",
    "    \n",
    "elif is_cold:\n",
    "    print(\"it is a cold day \")\n",
    "    \n",
    "else:\n",
    "    print('Enjoy Your day')\n",
    "\n",
    "\n"
   ]
  },
  {
   "cell_type": "code",
   "execution_count": 9,
   "id": "6d86abde",
   "metadata": {},
   "outputs": [
    {
     "name": "stdout",
     "output_type": "stream",
     "text": [
      "Down payment: $100000.0\n"
     ]
    }
   ],
   "source": [
    "price=1000000\n",
    "has_good_credit=True\n",
    "\n",
    "if has_good_credit:\n",
    "    down_payment=0.1*price\n",
    "else:\n",
    "    down_payment=0.2*price\n",
    "print(f\"Down payment: ${down_payment}\")"
   ]
  },
  {
   "cell_type": "code",
   "execution_count": 13,
   "id": "3c3f1482",
   "metadata": {},
   "outputs": [
    {
     "name": "stdout",
     "output_type": "stream",
     "text": [
      "Eligible for loan and you don't have good credit\n"
     ]
    }
   ],
   "source": [
    "high_income=False\n",
    "good_credit=True\n",
    "if(high_income & good_credit ==True):\n",
    "    print(\"Eligible for loan\") \n",
    "    \n",
    "elif high_income or good_credit :\n",
    "    print(\"Eligible for loan and you don't have good credit\")\n",
    "else:\n",
    "    print('Please Try again')\n",
    "    "
   ]
  },
  {
   "cell_type": "code",
   "execution_count": 14,
   "id": "25c5b29a",
   "metadata": {},
   "outputs": [
    {
     "name": "stdout",
     "output_type": "stream",
     "text": [
      "Enter your Password: sumit sarker\n",
      "Password is correct\n"
     ]
    }
   ],
   "source": [
    "password=input('Enter your Password: ')\n",
    "if len(password)<5:\n",
    "    print(\"Paassword Must be at least 5 character\")\n",
    "    \n",
    "elif len(password)>20:\n",
    "    print(\"Password must bea maximum of 50 character\")\n",
    "else: print(\"Password is correct\")\n",
    "    "
   ]
  },
  {
   "cell_type": "code",
   "execution_count": 2,
   "id": "51fa4049",
   "metadata": {},
   "outputs": [
    {
     "name": "stdout",
     "output_type": "stream",
     "text": [
      "Enter Your Weight? 74\n",
      "(L)bs  or (K)g: k\n",
      "You are 164.0 pounds\n"
     ]
    }
   ],
   "source": [
    "weight=int(input(\"Enter Your Weight? \"))\n",
    "unit=input('(L)bs  or (K)g: ')\n",
    "if unit.upper()==\"L\":\n",
    "    converted=weight*0.45\n",
    "    print(f\"You are {converted} kilos\")\n",
    "    \n",
    "else:\n",
    "    converted=weight//0.45\n",
    "    print(f\"You are {converted} pounds\")"
   ]
  },
  {
   "cell_type": "code",
   "execution_count": 7,
   "id": "2b76d159",
   "metadata": {},
   "outputs": [
    {
     "name": "stdout",
     "output_type": "stream",
     "text": [
      "    October 2022\n",
      "Mo Tu We Th Fr Sa Su\n",
      "                1  2\n",
      " 3  4  5  6  7  8  9\n",
      "10 11 12 13 14 15 16\n",
      "17 18 19 20 21 22 23\n",
      "24 25 26 27 28 29 30\n",
      "31\n",
      "\n"
     ]
    }
   ],
   "source": [
    "import calendar\n",
    "year=2022\n",
    "month=10\n",
    "date=1\n",
    "print(calendar.month(year,month,date))"
   ]
  },
  {
   "cell_type": "code",
   "execution_count": null,
   "id": "439106bf",
   "metadata": {},
   "outputs": [],
   "source": []
  }
 ],
 "metadata": {
  "kernelspec": {
   "display_name": "Python 3 (ipykernel)",
   "language": "python",
   "name": "python3"
  },
  "language_info": {
   "codemirror_mode": {
    "name": "ipython",
    "version": 3
   },
   "file_extension": ".py",
   "mimetype": "text/x-python",
   "name": "python",
   "nbconvert_exporter": "python",
   "pygments_lexer": "ipython3",
   "version": "3.10.6"
  }
 },
 "nbformat": 4,
 "nbformat_minor": 5
}
