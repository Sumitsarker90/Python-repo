{
 "cells": [
  {
   "cell_type": "markdown",
   "id": "2b5f0b16",
   "metadata": {},
   "source": [
    "### Basic Python \n",
    "- Variable\n",
    "- Data Types\n",
    "- Loops\n",
    "- Function\n",
    "- Condition"
   ]
  },
  {
   "cell_type": "code",
   "execution_count": 5,
   "id": "64c2f69c",
   "metadata": {},
   "outputs": [
    {
     "name": "stdout",
     "output_type": "stream",
     "text": [
      "10\n",
      "Sumit\n",
      "10.555\n",
      "True\n"
     ]
    }
   ],
   "source": [
    " number=10 # integer type of variable\n",
    "print(number)\n",
    "\n",
    "name=\"Sumit\"# String type of variable\n",
    "print(name)\n",
    "ratting=10.555 #  float type of variable\n",
    "print(ratting)\n",
    "\n",
    "is_active=True # Boolean is the data type\n",
    "print(is_active)\n"
   ]
  },
  {
   "cell_type": "code",
   "execution_count": 9,
   "id": "9686248a",
   "metadata": {},
   "outputs": [
    {
     "data": {
      "text/plain": [
       "float"
      ]
     },
     "execution_count": 9,
     "metadata": {},
     "output_type": "execute_result"
    }
   ],
   "source": [
    "type(10.444)"
   ]
  },
  {
   "cell_type": "code",
   "execution_count": 11,
   "id": "df3ee97d",
   "metadata": {},
   "outputs": [
    {
     "name": "stdout",
     "output_type": "stream",
     "text": [
      "SUMIT\n"
     ]
    }
   ],
   "source": [
    "name=\"Sumit\"\n",
    "print(name.upper());\n"
   ]
  },
  {
   "cell_type": "code",
   "execution_count": null,
   "id": "95a46cae",
   "metadata": {},
   "outputs": [],
   "source": []
  },
  {
   "cell_type": "code",
   "execution_count": null,
   "id": "bf89c4d5",
   "metadata": {},
   "outputs": [],
   "source": []
  },
  {
   "cell_type": "code",
   "execution_count": null,
   "id": "0c62546d",
   "metadata": {},
   "outputs": [],
   "source": []
  },
  {
   "cell_type": "code",
   "execution_count": null,
   "id": "77a27af2",
   "metadata": {},
   "outputs": [],
   "source": []
  },
  {
   "cell_type": "code",
   "execution_count": null,
   "id": "f83cde79",
   "metadata": {},
   "outputs": [],
   "source": []
  }
 ],
 "metadata": {
  "kernelspec": {
   "display_name": "Python 3 (ipykernel)",
   "language": "python",
   "name": "python3"
  },
  "language_info": {
   "codemirror_mode": {
    "name": "ipython",
    "version": 3
   },
   "file_extension": ".py",
   "mimetype": "text/x-python",
   "name": "python",
   "nbconvert_exporter": "python",
   "pygments_lexer": "ipython3",
   "version": "3.10.6"
  }
 },
 "nbformat": 4,
 "nbformat_minor": 5
}
