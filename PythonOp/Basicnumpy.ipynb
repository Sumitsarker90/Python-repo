{
 "cells": [
  {
   "cell_type": "code",
   "execution_count": 7,
   "id": "71839d4a",
   "metadata": {},
   "outputs": [
    {
     "name": "stdout",
     "output_type": "stream",
     "text": [
      "[1 2 3 4]\n",
      "<class 'numpy.ndarray'>\n"
     ]
    }
   ],
   "source": [
    "import numpy as np\n",
    "x=np.array([1,2,3,4])\n",
    "print(x)\n",
    "print(type(x))"
   ]
  },
  {
   "cell_type": "code",
   "execution_count": 11,
   "id": "cd27344b",
   "metadata": {},
   "outputs": [
    {
     "name": "stdout",
     "output_type": "stream",
     "text": [
      "[1, 23, 4]\n",
      "<class 'list'>\n"
     ]
    }
   ],
   "source": [
    "y=[1,23,4]\n",
    "print(y)\n",
    "print(type(y))"
   ]
  },
  {
   "cell_type": "markdown",
   "id": "342d5e5c",
   "metadata": {},
   "source": [
    "## %timeit \n",
    "- will how much time take to execute the array or list\n",
    "## %%timeit\n",
    "- wil show us how much time take to execute the whole program"
   ]
  },
  {
   "cell_type": "code",
   "execution_count": 10,
   "id": "0f5a77d8",
   "metadata": {},
   "outputs": [
    {
     "name": "stdout",
     "output_type": "stream",
     "text": [
      "5.74 µs ± 1.8 µs per loop (mean ± std. dev. of 7 runs, 100,000 loops each)\n"
     ]
    }
   ],
   "source": [
    "%timeit [j**4 for j in range(2,20)]"
   ]
  },
  {
   "cell_type": "code",
   "execution_count": 12,
   "id": "3d8639c9",
   "metadata": {},
   "outputs": [
    {
     "name": "stdout",
     "output_type": "stream",
     "text": [
      "3.4 µs ± 1.06 µs per loop (mean ± std. dev. of 7 runs, 100,000 loops each)\n"
     ]
    }
   ],
   "source": [
    "# array\n",
    "import numpy as np\n",
    "%timeit np.arange(2,20)**4"
   ]
  },
  {
   "cell_type": "markdown",
   "id": "85c43846",
   "metadata": {},
   "source": [
    "# Numpy Array"
   ]
  },
  {
   "cell_type": "code",
   "execution_count": 21,
   "id": "6b8d995b",
   "metadata": {},
   "outputs": [
    {
     "name": "stdout",
     "output_type": "stream",
     "text": [
      "[['apple' 'banana' 'mango' 'orange']]\n",
      "2\n"
     ]
    }
   ],
   "source": [
    "import numpy as np\n",
    "x=['apple','banana','mango','orange']\n",
    "y=np.array([x])\n",
    "print(y)\n",
    "# ndim is used to check the dimension of the array\n",
    "print(y.ndim)"
   ]
  },
  {
   "cell_type": "code",
   "execution_count": 19,
   "id": "612b3ba4",
   "metadata": {},
   "outputs": [
    {
     "name": "stdout",
     "output_type": "stream",
     "text": [
      "enter:12\n",
      "enter:13\n",
      "enter:24\n",
      "enter:24\n",
      "[12 13 24 24]\n",
      "[12, 13, 24, 24]\n"
     ]
    }
   ],
   "source": [
    "# user input list or array\n",
    "l=[]\n",
    "for i in range(1,5):\n",
    "    int_1=int(input(\"enter:\"))\n",
    "    l.append(int_1)\n",
    "    \n",
    "print(np.array(l))  \n",
    "print(l)"
   ]
  },
  {
   "cell_type": "code",
   "execution_count": 25,
   "id": "60130a3b",
   "metadata": {},
   "outputs": [
    {
     "name": "stdout",
     "output_type": "stream",
     "text": [
      "[[1 2 3 4]\n",
      " [1 2 3 4]]\n",
      "2\n"
     ]
    }
   ],
   "source": [
    "# creating 2 dimension array\n",
    "ar2=np.array([[1,2,3,4],[1,2,3,4]])\n",
    "print(ar2)\n",
    "print(ar2.ndim)"
   ]
  },
  {
   "cell_type": "code",
   "execution_count": 28,
   "id": "47f331a0",
   "metadata": {},
   "outputs": [
    {
     "name": "stdout",
     "output_type": "stream",
     "text": [
      "[[[  1   2   3   4]\n",
      "  [  1   2   3   5]\n",
      "  [ 20  30  40 100]]]\n",
      "3\n"
     ]
    }
   ],
   "source": [
    "ar3=np.array([[[1,2,3,4],[1,2,3,5],[20,30,40,100]]])\n",
    "print(ar3)\n",
    "print(ar3.ndim)"
   ]
  },
  {
   "cell_type": "code",
   "execution_count": 33,
   "id": "dee6554b",
   "metadata": {},
   "outputs": [
    {
     "name": "stdout",
     "output_type": "stream",
     "text": [
      "[[[[[[1 2 3 4 5]]]]]]\n",
      "6\n"
     ]
    }
   ],
   "source": [
    "# for creating n dimension array use (ndmin=n numbers)\n",
    "arn=np.array([1,2,3,4,5],ndmin=6)\n",
    "print(arn)\n",
    "print(arn.ndim)"
   ]
  },
  {
   "cell_type": "markdown",
   "id": "bfec23dc",
   "metadata": {},
   "source": [
    "# Spacial Numpy Array"
   ]
  },
  {
   "cell_type": "code",
   "execution_count": null,
   "id": "569e6943",
   "metadata": {},
   "outputs": [],
   "source": []
  }
 ],
 "metadata": {
  "kernelspec": {
   "display_name": "Python 3 (ipykernel)",
   "language": "python",
   "name": "python3"
  },
  "language_info": {
   "codemirror_mode": {
    "name": "ipython",
    "version": 3
   },
   "file_extension": ".py",
   "mimetype": "text/x-python",
   "name": "python",
   "nbconvert_exporter": "python",
   "pygments_lexer": "ipython3",
   "version": "3.10.6"
  }
 },
 "nbformat": 4,
 "nbformat_minor": 5
}
