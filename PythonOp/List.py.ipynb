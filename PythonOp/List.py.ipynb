{
 "cells": [
  {
   "cell_type": "code",
   "execution_count": 2,
   "id": "759e917e",
   "metadata": {},
   "outputs": [
    {
     "name": "stdout",
     "output_type": "stream",
     "text": [
      "['banana', 'cherry', 'apple']\n",
      "apple\n"
     ]
    }
   ],
   "source": [
    "mylist=['banana','cherry','apple']\n",
    "print(mylist)\n",
    "item= mylist[2]\n",
    "print(item)"
   ]
  },
  {
   "cell_type": "markdown",
   "id": "a7093812",
   "metadata": {},
   "source": [
    "In this page we have describe the list example of python\n",
    "# List in Python"
   ]
  },
  {
   "cell_type": "code",
   "execution_count": 1,
   "id": "3d15022b",
   "metadata": {},
   "outputs": [
    {
     "name": "stdout",
     "output_type": "stream",
     "text": [
      "List in Python\n"
     ]
    }
   ],
   "source": [
    "# List Coding\n",
    "print('List in Python')"
   ]
  },
  {
   "cell_type": "markdown",
   "id": "a084de65",
   "metadata": {},
   "source": [
    "# Variable in Python\n",
    "like, int,double,string, boolen"
   ]
  },
  {
   "cell_type": "code",
   "execution_count": null,
   "id": "260a626c",
   "metadata": {},
   "outputs": [],
   "source": []
  }
 ],
 "metadata": {
  "kernelspec": {
   "display_name": "Python 3 (ipykernel)",
   "language": "python",
   "name": "python3"
  },
  "language_info": {
   "codemirror_mode": {
    "name": "ipython",
    "version": 3
   },
   "file_extension": ".py",
   "mimetype": "text/x-python",
   "name": "python",
   "nbconvert_exporter": "python",
   "pygments_lexer": "ipython3",
   "version": "3.10.6"
  }
 },
 "nbformat": 4,
 "nbformat_minor": 5
}
