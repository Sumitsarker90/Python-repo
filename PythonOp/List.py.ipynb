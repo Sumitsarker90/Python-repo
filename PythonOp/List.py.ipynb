{
 "cells": [
  {
   "cell_type": "code",
   "execution_count": 2,
   "id": "759e917e",
   "metadata": {},
   "outputs": [
    {
     "name": "stdout",
     "output_type": "stream",
     "text": [
      "['banana', 'cherry', 'apple']\n",
      "apple\n"
     ]
    }
   ],
   "source": [
    "mylist=['banana','cherry','apple']\n",
    "print(mylist)\n",
    "item= mylist[2]\n",
    "print(item)"
   ]
  },
  {
   "cell_type": "code",
   "execution_count": 2,
   "id": "3d15022b",
   "metadata": {},
   "outputs": [
    {
     "name": "stdout",
     "output_type": "stream",
     "text": [
      "['Bangla', 90, 'English', 92, 'Math', 95]\n",
      "6\n"
     ]
    },
    {
     "data": {
      "text/plain": [
       "list"
      ]
     },
     "execution_count": 2,
     "metadata": {},
     "output_type": "execute_result"
    }
   ],
   "source": [
    "Result=['Bangla',90,\"English\",92,\"Math\",95]\n",
    "print(Result)\n",
    "print(len(Result))\n",
    "type(Result)"
   ]
  },
  {
   "cell_type": "code",
   "execution_count": 13,
   "id": "260a626c",
   "metadata": {},
   "outputs": [
    {
     "name": "stdout",
     "output_type": "stream",
     "text": [
      "['Bangla', 90, 'English', 92, 'Math', 95, 'Science']\n"
     ]
    }
   ],
   "source": [
    "result=['Bangla',90,\"English\",92,\"Math\",95]\n",
    "result.append(\"Science\")\n",
    "print(result)"
   ]
  },
  {
   "cell_type": "code",
   "execution_count": 16,
   "id": "0fa29868",
   "metadata": {},
   "outputs": [
    {
     "name": "stdout",
     "output_type": "stream",
     "text": [
      "['Bangla', 99, 90, 99, 'English', 92, 'Math', 95, 'Science', 99]\n"
     ]
    }
   ],
   "source": [
    "result[2]\n",
    "result.insert(1,99)\n",
    "print(result)"
   ]
  },
  {
   "cell_type": "code",
   "execution_count": 22,
   "id": "5cc5adb2",
   "metadata": {},
   "outputs": [
    {
     "name": "stdout",
     "output_type": "stream",
     "text": [
      "['Bangla', 99, 90, 99, 'English', 92, 'Math', 95, 'Science', 99, True, True, True, True, True]\n"
     ]
    }
   ],
   "source": [
    "result.append(True)\n",
    "print(result)"
   ]
  },
  {
   "cell_type": "code",
   "execution_count": 25,
   "id": "cf232a88",
   "metadata": {},
   "outputs": [
    {
     "name": "stdout",
     "output_type": "stream",
     "text": [
      "35\n",
      "5\n",
      "9\n"
     ]
    }
   ],
   "source": [
    "number=[5,6,7,8,9]\n",
    "print(sum(number))\n",
    "print(min(number))\n",
    "print(max(number))"
   ]
  },
  {
   "cell_type": "code",
   "execution_count": 30,
   "id": "9eeaf017",
   "metadata": {},
   "outputs": [
    {
     "name": "stdout",
     "output_type": "stream",
     "text": [
      "35\n",
      "35\n"
     ]
    }
   ],
   "source": [
    "total=0\n",
    "for count in number:\n",
    "    total +=count\n",
    "print(total)\n",
    "\n",
    "# same thing we are doing with just one line code using sum function\n",
    "print(sum( number))"
   ]
  },
  {
   "cell_type": "code",
   "execution_count": null,
   "id": "fc8f4b2b",
   "metadata": {},
   "outputs": [],
   "source": []
  }
 ],
 "metadata": {
  "kernelspec": {
   "display_name": "Python 3 (ipykernel)",
   "language": "python",
   "name": "python3"
  },
  "language_info": {
   "codemirror_mode": {
    "name": "ipython",
    "version": 3
   },
   "file_extension": ".py",
   "mimetype": "text/x-python",
   "name": "python",
   "nbconvert_exporter": "python",
   "pygments_lexer": "ipython3",
   "version": "3.10.6"
  }
 },
 "nbformat": 4,
 "nbformat_minor": 5
}
