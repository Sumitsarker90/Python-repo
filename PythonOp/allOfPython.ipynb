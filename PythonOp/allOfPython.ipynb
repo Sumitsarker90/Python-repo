{
 "cells": [
  {
   "cell_type": "code",
   "execution_count": 1,
   "id": "2c559256",
   "metadata": {},
   "outputs": [
    {
     "name": "stdout",
     "output_type": "stream",
     "text": [
      "sumit  and 3\n"
     ]
    }
   ],
   "source": [
    "x='sumit'\n",
    "y=3\n",
    "print(f'{x}  and {y}')"
   ]
  },
  {
   "cell_type": "code",
   "execution_count": 2,
   "id": "116776ab",
   "metadata": {},
   "outputs": [
    {
     "name": "stdout",
     "output_type": "stream",
     "text": [
      "3  3.0  3\n",
      "<class 'str'>\n"
     ]
    }
   ],
   "source": [
    "x=int(3.5)\n",
    "y=float(3)\n",
    "z=str(3)\n",
    "print(f'{x}  {y}  {z}')\n",
    "print(type(z))"
   ]
  },
  {
   "cell_type": "markdown",
   "id": "aab2dfc4",
   "metadata": {},
   "source": [
    "## Variable\n",
    "- variable names with more than one word can be difficult to read.\n",
    "- there are several techniques you cn use ot make them more readable.\n",
    "- camel case:\n",
    " each word, except the first, starts with a capital letter:\n",
    " - Pascal case: each wordstarts with a captital letter"
   ]
  },
  {
   "cell_type": "code",
   "execution_count": 3,
   "id": "09e6b9cb",
   "metadata": {},
   "outputs": [],
   "source": [
    "# Camel case\n",
    "myVariableName=\"Sumit\"\n",
    "\n",
    "#Pascal case\n",
    "MyVariableName=\"Bappi\"\n",
    "\n",
    "#Snake case- each word is separted by an underscore character:\n",
    "my_variable_name='jhon'\n",
    "\n"
   ]
  },
  {
   "cell_type": "markdown",
   "id": "70a12036",
   "metadata": {},
   "source": [
    "## Many values of multiple variables\n",
    "- python allows you to assign values to multiple variables in one line:"
   ]
  },
  {
   "cell_type": "code",
   "execution_count": 4,
   "id": "7726587c",
   "metadata": {},
   "outputs": [
    {
     "name": "stdout",
     "output_type": "stream",
     "text": [
      "Sumit\n",
      "kanti\n",
      "sarker\n",
      "Sumit   kanti  sarker\n"
     ]
    }
   ],
   "source": [
    "x,y,z='Sumit','kanti','sarker'\n",
    "print(x)\n",
    "print(y)\n",
    "print(z)\n",
    "print(f'{x  }   {y}  {z}')"
   ]
  },
  {
   "cell_type": "markdown",
   "id": "a01bbe06",
   "metadata": {},
   "source": [
    "## One value to multiple variables\n",
    "- and you can assign the same  valueto multiple variables in one line :"
   ]
  },
  {
   "cell_type": "code",
   "execution_count": 5,
   "id": "dec94cfb",
   "metadata": {},
   "outputs": [
    {
     "name": "stdout",
     "output_type": "stream",
     "text": [
      "Ronaldo Ronaldo Ronaldo\n"
     ]
    }
   ],
   "source": [
    "x=y=z=\"Ronaldo\"\n",
    "print(x,y,z)"
   ]
  },
  {
   "cell_type": "markdown",
   "id": "5f08b384",
   "metadata": {},
   "source": [
    "## Unpack  a collection \n",
    "- If you have a collection of values in a list,tuples etc.\n",
    "- Python allows you to extract the values into variables.\n",
    "- this is called unpacking.\n"
   ]
  },
  {
   "cell_type": "code",
   "execution_count": 6,
   "id": "2122b3e6",
   "metadata": {},
   "outputs": [
    {
     "name": "stdout",
     "output_type": "stream",
     "text": [
      "banana apple mango\n"
     ]
    }
   ],
   "source": [
    "fruits=['banana','apple','mango']\n",
    "x,y,z=fruits\n",
    "print(x,y,z)"
   ]
  },
  {
   "cell_type": "markdown",
   "id": "bf4b674d",
   "metadata": {},
   "source": [
    "## Global variable\n",
    "- in python you can use global variables into function"
   ]
  },
  {
   "cell_type": "code",
   "execution_count": 7,
   "id": "94c82ef3",
   "metadata": {},
   "outputs": [
    {
     "name": "stdout",
     "output_type": "stream",
     "text": [
      "My name is: sumit\n"
     ]
    }
   ],
   "source": [
    "name='sumit'\n",
    "def myname():\n",
    "    print(\"My name is: \"+name)\n",
    "    \n",
    "    \n",
    "myname()"
   ]
  },
  {
   "cell_type": "markdown",
   "id": "09087bbc",
   "metadata": {},
   "source": [
    "## Python datatypes\n",
    "- in programming, data type is an importnat concept,\n",
    "    - variables can store data of different types, and different types can do different things.\n",
    "    - python has the following data types built in by default, in these categories:\n",
    "    - text Type: str\n",
    "    - Numeric Types\": int, float,complex\n",
    "    - sequence Types: list,tuples,range\n",
    "    - Mapping Types: dict\n",
    "    - Boolean Types: bool\n",
    "    - Set types: set, frozenset"
   ]
  },
  {
   "cell_type": "code",
   "execution_count": 8,
   "id": "65c9794a",
   "metadata": {},
   "outputs": [
    {
     "name": "stdout",
     "output_type": "stream",
     "text": [
      "<class 'int'>\n",
      "<class 'float'>\n",
      "<class 'complex'>\n",
      "1j\n"
     ]
    }
   ],
   "source": [
    "x = 1    # int\n",
    "y = 2.8  # float\n",
    "z = 1j   # complex\n",
    "print(type(x))\n",
    "print(type(y))\n",
    "print(type(z))\n",
    "print(z)"
   ]
  },
  {
   "cell_type": "code",
   "execution_count": 9,
   "id": "cd1bfc34",
   "metadata": {},
   "outputs": [
    {
     "name": "stdout",
     "output_type": "stream",
     "text": [
      "\n",
      "A winter morning is mistry and cold.\n",
      "there is dance fog every where.\n",
      "sometimes the fog is so dance that thge \n",
      "sun rays cannot get even through it\n"
     ]
    }
   ],
   "source": [
    "# How to print  multi line string \n",
    "a=\"\"\"\n",
    "A winter morning is mistry and cold.\n",
    "there is dance fog every where.\n",
    "sometimes the fog is so dance that thge \n",
    "sun rays cannot get even through it\"\"\"\n",
    "print(a)"
   ]
  },
  {
   "cell_type": "code",
   "execution_count": 10,
   "id": "4fb57612",
   "metadata": {},
   "outputs": [
    {
     "name": "stdout",
     "output_type": "stream",
     "text": [
      "b\n",
      "a\n",
      "n\n",
      "a\n",
      "n\n",
      "a\n",
      " \n",
      "a\n",
      " \n",
      "f\n",
      "r\n",
      "u\n",
      "i\n",
      "t\n",
      " \n",
      " \n",
      "16\n"
     ]
    }
   ],
   "source": [
    "fruit=\"banana a fruit  \"\n",
    "\n",
    "for x in fruit:\n",
    "    print(x)\n",
    "    \n",
    "print(len(fruit))    "
   ]
  },
  {
   "cell_type": "code",
   "execution_count": 11,
   "id": "f366f11d",
   "metadata": {},
   "outputs": [
    {
     "name": "stdout",
     "output_type": "stream",
     "text": [
      "BANANA A FRUIT  \n",
      "banana a fruit  \n"
     ]
    }
   ],
   "source": [
    "print(fruit.upper())\n",
    "print(fruit.lower())"
   ]
  },
  {
   "cell_type": "code",
   "execution_count": 12,
   "id": "0d642213",
   "metadata": {},
   "outputs": [
    {
     "name": "stdout",
     "output_type": "stream",
     "text": [
      "banana a fruit\n"
     ]
    }
   ],
   "source": [
    "print(fruit.strip())"
   ]
  },
  {
   "cell_type": "code",
   "execution_count": 13,
   "id": "40a956b0",
   "metadata": {},
   "outputs": [
    {
     "name": "stdout",
     "output_type": "stream",
     "text": [
      "['banana', 'a', 'fruit']\n"
     ]
    }
   ],
   "source": [
    "print(fruit.split())"
   ]
  },
  {
   "cell_type": "code",
   "execution_count": null,
   "id": "0888be14",
   "metadata": {},
   "outputs": [],
   "source": [
    "n=int(input('Enter Your number:'))\n",
    "\n",
    "if(n%2==0):\n",
    "    print(f'{n} is Even')\n",
    "    \n",
    "else:\n",
    "    print(f'{n} is Odd')"
   ]
  },
  {
   "cell_type": "code",
   "execution_count": null,
   "id": "8edb86f3",
   "metadata": {},
   "outputs": [],
   "source": [
    "i=1\n",
    "while i<6:\n",
    "    print(i)\n",
    "    if(i==3):\n",
    "        continue\n",
    "     i +=1\n",
    "    \n",
    "    "
   ]
  },
  {
   "cell_type": "code",
   "execution_count": null,
   "id": "75f400fc",
   "metadata": {},
   "outputs": [],
   "source": []
  }
 ],
 "metadata": {
  "kernelspec": {
   "display_name": "Python 3 (ipykernel)",
   "language": "python",
   "name": "python3"
  },
  "language_info": {
   "codemirror_mode": {
    "name": "ipython",
    "version": 3
   },
   "file_extension": ".py",
   "mimetype": "text/x-python",
   "name": "python",
   "nbconvert_exporter": "python",
   "pygments_lexer": "ipython3",
   "version": "3.10.6"
  },
  "vscode": {
   "interpreter": {
    "hash": "f2a2bb78c9302046481df819ee28fc15c5bac393c017b7113ce128e30e8dbaf5"
   }
  }
 },
 "nbformat": 4,
 "nbformat_minor": 5
}
